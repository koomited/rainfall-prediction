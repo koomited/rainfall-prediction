{
 "cells": [
  {
   "cell_type": "code",
   "execution_count": 1,
   "id": "9c42e485",
   "metadata": {},
   "outputs": [
    {
     "data": {
      "text/plain": [
       "'/home/ubuntu/africlimateai/rainfall-prediction'"
      ]
     },
     "execution_count": 1,
     "metadata": {},
     "output_type": "execute_result"
    }
   ],
   "source": [
    "import os\n",
    "\n",
    "%pwd\n",
    "\n",
    "'/home/tousside/Documents/recrutement/cowrywise-customer-plan-abandonment/research'\n",
    "\n",
    "os.chdir(\"../\")\n",
    "\n",
    "%pwd\n",
    "\n"
   ]
  },
  {
   "cell_type": "code",
   "execution_count": 2,
   "id": "3207e40a",
   "metadata": {},
   "outputs": [
    {
     "name": "stdout",
     "output_type": "stream",
     "text": [
      "<class 'pandas.core.frame.DataFrame'>\n",
      "Index: 207 entries, 2024-11-27 to 2025-06-21\n",
      "Data columns (total 89 columns):\n",
      " #   Column                  Non-Null Count  Dtype  \n",
      "---  ------                  --------------  -----  \n",
      " 0   temperature             207 non-null    float64\n",
      " 1   feels_like              207 non-null    float64\n",
      " 2   app_temp                207 non-null    float64\n",
      " 3   dew_point               207 non-null    float64\n",
      " 4   humidity                207 non-null    float64\n",
      " 5   wind_direction          207 non-null    float64\n",
      " 6   wind_speed              207 non-null    float64\n",
      " 7   wind_gust               207 non-null    float64\n",
      " 8   pressure_relative       207 non-null    float64\n",
      " 9   pressure_absolute       207 non-null    float64\n",
      " 10  rainfall                207 non-null    float64\n",
      " 11  temperature(t-1)        207 non-null    float64\n",
      " 12  temperature(t-2)        207 non-null    float64\n",
      " 13  temperature(t-3)        207 non-null    float64\n",
      " 14  temperature(t-4)        207 non-null    float64\n",
      " 15  temperature(t-5)        207 non-null    float64\n",
      " 16  temperature(t-6)        207 non-null    float64\n",
      " 17  temperature(t-7)        207 non-null    float64\n",
      " 18  feels_like(t-1)         207 non-null    float64\n",
      " 19  feels_like(t-2)         207 non-null    float64\n",
      " 20  feels_like(t-3)         207 non-null    float64\n",
      " 21  feels_like(t-4)         207 non-null    float64\n",
      " 22  feels_like(t-5)         207 non-null    float64\n",
      " 23  feels_like(t-6)         207 non-null    float64\n",
      " 24  feels_like(t-7)         207 non-null    float64\n",
      " 25  app_temp(t-1)           207 non-null    float64\n",
      " 26  app_temp(t-2)           207 non-null    float64\n",
      " 27  app_temp(t-3)           207 non-null    float64\n",
      " 28  app_temp(t-4)           207 non-null    float64\n",
      " 29  app_temp(t-5)           207 non-null    float64\n",
      " 30  app_temp(t-6)           207 non-null    float64\n",
      " 31  app_temp(t-7)           207 non-null    float64\n",
      " 32  dew_point(t-1)          207 non-null    float64\n",
      " 33  dew_point(t-2)          207 non-null    float64\n",
      " 34  dew_point(t-3)          207 non-null    float64\n",
      " 35  dew_point(t-4)          207 non-null    float64\n",
      " 36  dew_point(t-5)          207 non-null    float64\n",
      " 37  dew_point(t-6)          207 non-null    float64\n",
      " 38  dew_point(t-7)          207 non-null    float64\n",
      " 39  humidity(t-1)           207 non-null    float64\n",
      " 40  humidity(t-2)           207 non-null    float64\n",
      " 41  humidity(t-3)           207 non-null    float64\n",
      " 42  humidity(t-4)           207 non-null    float64\n",
      " 43  humidity(t-5)           207 non-null    float64\n",
      " 44  humidity(t-6)           207 non-null    float64\n",
      " 45  humidity(t-7)           207 non-null    float64\n",
      " 46  wind_direction(t-1)     207 non-null    float64\n",
      " 47  wind_direction(t-2)     207 non-null    float64\n",
      " 48  wind_direction(t-3)     207 non-null    float64\n",
      " 49  wind_direction(t-4)     207 non-null    float64\n",
      " 50  wind_direction(t-5)     207 non-null    float64\n",
      " 51  wind_direction(t-6)     207 non-null    float64\n",
      " 52  wind_direction(t-7)     207 non-null    float64\n",
      " 53  wind_speed(t-1)         207 non-null    float64\n",
      " 54  wind_speed(t-2)         207 non-null    float64\n",
      " 55  wind_speed(t-3)         207 non-null    float64\n",
      " 56  wind_speed(t-4)         207 non-null    float64\n",
      " 57  wind_speed(t-5)         207 non-null    float64\n",
      " 58  wind_speed(t-6)         207 non-null    float64\n",
      " 59  wind_speed(t-7)         207 non-null    float64\n",
      " 60  wind_gust(t-1)          207 non-null    float64\n",
      " 61  wind_gust(t-2)          207 non-null    float64\n",
      " 62  wind_gust(t-3)          207 non-null    float64\n",
      " 63  wind_gust(t-4)          207 non-null    float64\n",
      " 64  wind_gust(t-5)          207 non-null    float64\n",
      " 65  wind_gust(t-6)          207 non-null    float64\n",
      " 66  wind_gust(t-7)          207 non-null    float64\n",
      " 67  pressure_relative(t-1)  207 non-null    float64\n",
      " 68  pressure_relative(t-2)  207 non-null    float64\n",
      " 69  pressure_relative(t-3)  207 non-null    float64\n",
      " 70  pressure_relative(t-4)  207 non-null    float64\n",
      " 71  pressure_relative(t-5)  207 non-null    float64\n",
      " 72  pressure_relative(t-6)  207 non-null    float64\n",
      " 73  pressure_relative(t-7)  207 non-null    float64\n",
      " 74  pressure_absolute(t-1)  207 non-null    float64\n",
      " 75  pressure_absolute(t-2)  207 non-null    float64\n",
      " 76  pressure_absolute(t-3)  207 non-null    float64\n",
      " 77  pressure_absolute(t-4)  207 non-null    float64\n",
      " 78  pressure_absolute(t-5)  207 non-null    float64\n",
      " 79  pressure_absolute(t-6)  207 non-null    float64\n",
      " 80  pressure_absolute(t-7)  207 non-null    float64\n",
      " 81  rainfall(t-1)           207 non-null    float64\n",
      " 82  rainfall(t-2)           207 non-null    float64\n",
      " 83  rainfall(t-3)           207 non-null    float64\n",
      " 84  rainfall(t-4)           207 non-null    float64\n",
      " 85  rainfall(t-5)           207 non-null    float64\n",
      " 86  rainfall(t-6)           207 non-null    float64\n",
      " 87  rainfall(t-7)           207 non-null    float64\n",
      " 88  is_rain                 207 non-null    int64  \n",
      "dtypes: float64(88), int64(1)\n",
      "memory usage: 145.5+ KB\n"
     ]
    }
   ],
   "source": [
    "import pandas as pd\n",
    "\n",
    "data = pd.read_csv(\"artifacts/data_transformation/train.csv\", index_col=\"time\")\n",
    "data_test = pd.read_csv(\"artifacts/data_transformation/test.csv\", index_col=\"time\")\n",
    "\n",
    "data.info()\n",
    "\n"
   ]
  },
  {
   "cell_type": "code",
   "execution_count": 3,
   "id": "31d5f327",
   "metadata": {},
   "outputs": [
    {
     "data": {
      "text/plain": [
       "Index(['temperature', 'feels_like', 'app_temp', 'dew_point', 'humidity',\n",
       "       'wind_direction', 'wind_speed', 'wind_gust', 'pressure_relative',\n",
       "       'pressure_absolute', 'rainfall', 'temperature(t-1)', 'temperature(t-2)',\n",
       "       'temperature(t-3)', 'temperature(t-4)', 'temperature(t-5)',\n",
       "       'temperature(t-6)', 'temperature(t-7)', 'feels_like(t-1)',\n",
       "       'feels_like(t-2)', 'feels_like(t-3)', 'feels_like(t-4)',\n",
       "       'feels_like(t-5)', 'feels_like(t-6)', 'feels_like(t-7)',\n",
       "       'app_temp(t-1)', 'app_temp(t-2)', 'app_temp(t-3)', 'app_temp(t-4)',\n",
       "       'app_temp(t-5)', 'app_temp(t-6)', 'app_temp(t-7)', 'dew_point(t-1)',\n",
       "       'dew_point(t-2)', 'dew_point(t-3)', 'dew_point(t-4)', 'dew_point(t-5)',\n",
       "       'dew_point(t-6)', 'dew_point(t-7)', 'humidity(t-1)', 'humidity(t-2)',\n",
       "       'humidity(t-3)', 'humidity(t-4)', 'humidity(t-5)', 'humidity(t-6)',\n",
       "       'humidity(t-7)', 'wind_direction(t-1)', 'wind_direction(t-2)',\n",
       "       'wind_direction(t-3)', 'wind_direction(t-4)', 'wind_direction(t-5)',\n",
       "       'wind_direction(t-6)', 'wind_direction(t-7)', 'wind_speed(t-1)',\n",
       "       'wind_speed(t-2)', 'wind_speed(t-3)', 'wind_speed(t-4)',\n",
       "       'wind_speed(t-5)', 'wind_speed(t-6)', 'wind_speed(t-7)',\n",
       "       'wind_gust(t-1)', 'wind_gust(t-2)', 'wind_gust(t-3)', 'wind_gust(t-4)',\n",
       "       'wind_gust(t-5)', 'wind_gust(t-6)', 'wind_gust(t-7)',\n",
       "       'pressure_relative(t-1)', 'pressure_relative(t-2)',\n",
       "       'pressure_relative(t-3)', 'pressure_relative(t-4)',\n",
       "       'pressure_relative(t-5)', 'pressure_relative(t-6)',\n",
       "       'pressure_relative(t-7)', 'pressure_absolute(t-1)',\n",
       "       'pressure_absolute(t-2)', 'pressure_absolute(t-3)',\n",
       "       'pressure_absolute(t-4)', 'pressure_absolute(t-5)',\n",
       "       'pressure_absolute(t-6)', 'pressure_absolute(t-7)', 'rainfall(t-1)',\n",
       "       'rainfall(t-2)', 'rainfall(t-3)', 'rainfall(t-4)', 'rainfall(t-5)',\n",
       "       'rainfall(t-6)', 'rainfall(t-7)', 'is_rain'],\n",
       "      dtype='object')"
      ]
     },
     "execution_count": 3,
     "metadata": {},
     "output_type": "execute_result"
    }
   ],
   "source": [
    "data.columns"
   ]
  },
  {
   "cell_type": "markdown",
   "id": "c12e4574",
   "metadata": {},
   "source": [
    "# classification to determine  to determine weither it rained or not"
   ]
  },
  {
   "cell_type": "code",
   "execution_count": null,
   "id": "545ad0e2",
   "metadata": {},
   "outputs": [],
   "source": [
    "from copy import deepcopy as dc\n",
    "import seaborn as sb\n",
    "from sklearn.tree import DecisionTreeClassifier\n",
    "from sklearn.ensemble import RandomForestClassifier\n",
    "from sklearn.linear_model import LogisticRegression\n",
    "from sklearn.preprocessing import StandardScaler\n",
    "\n",
    "from sklearn.model_selection import GridSearchCV, RandomizedSearchCV\n",
    "\n",
    "from sklearn.metrics import make_scorer, f1_score\n",
    "import pandas as pd\n",
    "import numpy as np\n",
    "import matplotlib.pyplot as plt\n",
    "import os\n",
    "import torch\n",
    "import torch.nn as nn\n",
    "from torch.utils.data import Dataset\n",
    "from torch import optim\n",
    "from torch.utils.data import DataLoader\n",
    "import joblib\n",
    "\n",
    "\n"
   ]
  },
  {
   "cell_type": "code",
   "execution_count": null,
   "id": "cd5bfafd",
   "metadata": {},
   "outputs": [],
   "source": []
  },
  {
   "cell_type": "code",
   "execution_count": 5,
   "id": "df154eee",
   "metadata": {},
   "outputs": [],
   "source": [
    "train_data = dc(data)\n",
    "test_data = dc(data_test)"
   ]
  },
  {
   "cell_type": "code",
   "execution_count": 6,
   "id": "9d0e2aad",
   "metadata": {},
   "outputs": [
    {
     "data": {
      "text/plain": [
       "array([15.4, 17.4,  0. ,  0. ,  0. ,  0. ,  0. ,  0. ,  0. ,  0. ,  0. ,\n",
       "        5.2,  0. ,  0. ,  0. ,  0. ,  0. ,  0.2,  0. ,  0. ,  0. , 17.5,\n",
       "        0.7,  0. ,  0. ,  0. ,  0. ,  3.9,  0. , 13.2,  0. , 26.1,  9.9,\n",
       "       33.4,  0. , 60. , 27.4,  0.4,  0. ,  5.6,  0. , 17.3, 38.8, 63.8,\n",
       "       12.6, 66.8, 25.4, 91.4,  4.8,  0. , 40.6,  5.4,  0. ,  0. , 14. ,\n",
       "        0. ,  0. ,  0. ,  0. ,  0. ,  0. ,  0. ,  0. ,  0. ,  0. ,  0. ,\n",
       "        0.3,  0. ,  0. ,  0. ,  0. ,  0. ,  0. ,  0. , 27.3, 39.5, 10. ,\n",
       "        4. ,  1.6, 68.6, 12.3,  4.4, 15.9, 25.3, 33.1, 17.1,  5.5,  0. ,\n",
       "        0. ,  6.6,  1. ,  0. ,  0. ,  0. ,  0. ,  0. ,  0. ,  0. ,  0. ,\n",
       "        0. ,  0. ,  3.7,  0. ,  0. , 13.9, 11.9,  0. ,  5.9,  0. ,  0. ,\n",
       "        0. ,  0. ,  0. ,  0. ,  0. ,  0. ,  0. ,  0. ,  0. ,  0. ,  0. ,\n",
       "        0. ,  0. ,  0. ,  0. ,  0. ,  0. ,  0. ,  0. ,  0. ,  0. ,  1.2,\n",
       "        0. ,  0.8,  0. ,  0. ,  0. ,  0. ,  0. ,  0. ,  0. ,  1.6,  4.5,\n",
       "        0. ,  0. ,  0. ,  0. ,  0. ,  4.1,  0.2,  0. ,  0. ,  0. ,  0. ,\n",
       "        0. ,  0. ,  6.9,  3.3,  0. ,  0. ,  0. ,  0. ,  0. ,  0. ,  0. ,\n",
       "        6.5,  0.2,  0. ,  0. ,  0. ,  0. ,  0. ,  0. ,  0. ,  0. ,  0. ,\n",
       "        0. ,  0. ,  0. ,  0. ,  0. ,  0. ,  0. ,  0. ,  0. ,  0. ,  0. ,\n",
       "        0. ,  0. ,  0. ,  2.5,  0. ,  0. ,  0. ,  0. ,  0. ,  0. ,  0. ,\n",
       "        0. ,  0. ,  0. ,  0. ,  0. ,  0. ,  0. ,  0. ,  0. ])"
      ]
     },
     "execution_count": 6,
     "metadata": {},
     "output_type": "execute_result"
    }
   ],
   "source": [
    "train_data[\"rainfall\"].values"
   ]
  },
  {
   "cell_type": "code",
   "execution_count": 7,
   "id": "44424a58",
   "metadata": {},
   "outputs": [],
   "source": [
    "target_class_var = \"is_rain\" \n",
    "train_target_class_data = train_data[target_class_var].values\n",
    "test_target_class_data = test_data[target_class_var].values"
   ]
  },
  {
   "cell_type": "code",
   "execution_count": 8,
   "id": "4ec3de1f",
   "metadata": {},
   "outputs": [
    {
     "data": {
      "text/plain": [
       "(46,)"
      ]
     },
     "execution_count": 8,
     "metadata": {},
     "output_type": "execute_result"
    }
   ],
   "source": [
    "train_target_class_data.shape\n",
    "test_target_class_data.shape"
   ]
  },
  {
   "cell_type": "code",
   "execution_count": 9,
   "id": "5c5f3345",
   "metadata": {},
   "outputs": [
    {
     "ename": "NameError",
     "evalue": "name 'target_class_data' is not defined",
     "output_type": "error",
     "traceback": [
      "\u001b[31m---------------------------------------------------------------------------\u001b[39m",
      "\u001b[31mNameError\u001b[39m                                 Traceback (most recent call last)",
      "\u001b[36mCell\u001b[39m\u001b[36m \u001b[39m\u001b[32mIn[9]\u001b[39m\u001b[32m, line 1\u001b[39m\n\u001b[32m----> \u001b[39m\u001b[32m1\u001b[39m \u001b[43mtarget_class_data\u001b[49m\n",
      "\u001b[31mNameError\u001b[39m: name 'target_class_data' is not defined"
     ]
    }
   ],
   "source": [
    "target_class_data"
   ]
  },
  {
   "cell_type": "code",
   "execution_count": null,
   "id": "67511c23",
   "metadata": {},
   "outputs": [
    {
     "ename": "NameError",
     "evalue": "name 'np' is not defined",
     "output_type": "error",
     "traceback": [
      "\u001b[31m---------------------------------------------------------------------------\u001b[39m",
      "\u001b[31mNameError\u001b[39m                                 Traceback (most recent call last)",
      "\u001b[36mCell\u001b[39m\u001b[36m \u001b[39m\u001b[32mIn[17]\u001b[39m\u001b[32m, line 1\u001b[39m\n\u001b[32m----> \u001b[39m\u001b[32m1\u001b[39m \u001b[43mnp\u001b[49m.unique(target_class_data)\n",
      "\u001b[31mNameError\u001b[39m: name 'np' is not defined"
     ]
    }
   ],
   "source": [
    "np.unique(target_class_data)"
   ]
  },
  {
   "cell_type": "code",
   "execution_count": null,
   "id": "7e58eb1b",
   "metadata": {},
   "outputs": [
    {
     "name": "stdout",
     "output_type": "stream",
     "text": [
      "[2025-09-26 10:50:12,982: INFO: category: Using categorical units to plot a list of strings that are all parsable as floats or dates. If these strings should be plotted as numbers, cast to the appropriate data type before plotting.]\n",
      "[2025-09-26 10:50:12,992: INFO: category: Using categorical units to plot a list of strings that are all parsable as floats or dates. If these strings should be plotted as numbers, cast to the appropriate data type before plotting.]\n"
     ]
    },
    {
     "name": "stderr",
     "output_type": "stream",
     "text": [
      "/tmp/ipykernel_60005/604385125.py:2: FutureWarning: \n",
      "\n",
      "Passing `palette` without assigning `hue` is deprecated and will be removed in v0.14.0. Assign the `x` variable to `hue` and set `legend=False` for the same effect.\n",
      "\n",
      "  sb.countplot(x=\"is_rain\", data=train_data, palette=\"Blues\", stat=\"percent\")\n"
     ]
    },
    {
     "data": {
      "image/png": "[encoded data removed]",
      "text/plain": [
       "<Figure size 600x400 with 1 Axes>"
      ]
     },
     "metadata": {},
     "output_type": "display_data"
    }
   ],
   "source": [
    "plt.figure(figsize=(6,4))\n",
    "sb.countplot(x=\"is_rain\", data=train_data, palette=\"Blues\", stat=\"percent\")\n",
    "\n",
    "# Rename ticks\n",
    "plt.xticks([0, 1], [\"No Rain\", \"Rain\"])\n",
    "plt.ylabel(\"Count\")\n",
    "plt.xlabel(\"Rain Status\")\n",
    "plt.title(\"Distribution of Rain vs No Rain\")\n",
    "plt.show()"
   ]
  },
  {
   "cell_type": "code",
   "execution_count": null,
   "id": "6aed0101",
   "metadata": {},
   "outputs": [],
   "source": [
    "X_train_classification = train_data.drop(columns=[\"is_rain\", \"rainfall\"]).values\n",
    "X_test_classification = test_data.drop(columns=[\"is_rain\", \"rainfall\"]).values"
   ]
  },
  {
   "cell_type": "code",
   "execution_count": null,
   "id": "580895df",
   "metadata": {},
   "outputs": [
    {
     "data": {
      "text/plain": [
       "(207, 87)"
      ]
     },
     "execution_count": 20,
     "metadata": {},
     "output_type": "execute_result"
    }
   ],
   "source": [
    "X_train_classification.shape"
   ]
  },
  {
   "cell_type": "code",
   "execution_count": null,
   "id": "e1cca49b",
   "metadata": {},
   "outputs": [],
   "source": [
    "y_train_classification = dc(train_target_class_data)\n",
    "y_test_classification = dc(test_target_class_data)"
   ]
  },
  {
   "cell_type": "code",
   "execution_count": null,
   "id": "fa9ff259",
   "metadata": {},
   "outputs": [
    {
     "data": {
      "text/plain": [
       "(207,)"
      ]
     },
     "execution_count": 22,
     "metadata": {},
     "output_type": "execute_result"
    }
   ],
   "source": [
    "y_train_classification.shape"
   ]
  },
  {
   "cell_type": "code",
   "execution_count": null,
   "id": "f9098059",
   "metadata": {},
   "outputs": [],
   "source": [
    "scaler = StandardScaler()"
   ]
  },
  {
   "cell_type": "code",
   "execution_count": null,
   "id": "bfbaba92",
   "metadata": {},
   "outputs": [],
   "source": [
    "# Fit only on training data\n",
    "X_train_classification_scaled = scaler.fit_transform(X_train_classification)"
   ]
  },
  {
   "cell_type": "code",
   "execution_count": null,
   "id": "92cf3538",
   "metadata": {},
   "outputs": [],
   "source": [
    "X_test_classification_scaled = scaler.transform(X_test_classification)\n"
   ]
  },
  {
   "cell_type": "code",
   "execution_count": null,
   "id": "2b5ebe28",
   "metadata": {},
   "outputs": [],
   "source": []
  },
  {
   "cell_type": "code",
   "execution_count": null,
   "id": "d87eef5f",
   "metadata": {},
   "outputs": [],
   "source": []
  },
  {
   "cell_type": "code",
   "execution_count": null,
   "id": "2158a1a1",
   "metadata": {},
   "outputs": [
    {
     "name": "stdout",
     "output_type": "stream",
     "text": [
      "Decision Tree F1-score: 0.0000\n",
      "Random Forest F1-score: 0.0000\n",
      "Logistic Regression F1-score: 0.4444\n"
     ]
    }
   ],
   "source": [
    "# Models\n",
    "dt = DecisionTreeClassifier(class_weight=\"balanced\", random_state=42)\n",
    "rf = RandomForestClassifier(class_weight=\"balanced\", random_state=42, n_estimators=100)\n",
    "lr = LogisticRegression(class_weight=\"balanced\", max_iter=1000, random_state=42)\n",
    "\n",
    "models = {\"Decision Tree\": dt, \"Random Forest\": rf, \"Logistic Regression\": lr}\n",
    "\n",
    "# Train + Evaluate\n",
    "for name, model in models.items():\n",
    "    model.fit(X_train_classification_scaled, y_train_classification)\n",
    "    y_pred_classification = model.predict(X_test_classification_scaled)\n",
    "    f1 = f1_score(y_test_classification, y_pred_classification, average=\"binary\")  # use \"binary\" since it's rain vs no rain\n",
    "    print(f\"{name} F1-score: {f1:.4f}\")"
   ]
  },
  {
   "cell_type": "markdown",
   "id": "704de048",
   "metadata": {},
   "source": [
    "## Let continue with logistic regression"
   ]
  },
  {
   "cell_type": "code",
   "execution_count": null,
   "id": "af6452d1",
   "metadata": {},
   "outputs": [],
   "source": []
  },
  {
   "cell_type": "code",
   "execution_count": null,
   "id": "8f391133",
   "metadata": {},
   "outputs": [
    {
     "name": "stdout",
     "output_type": "stream",
     "text": [
      "Fitting 5 folds for each of 10 candidates, totalling 50 fits\n",
      "Best hyperparameters: {'max_iter': 500, 'class_weight': 'balanced', 'C': 1.0}\n",
      "Test F1-score: 0.4444\n"
     ]
    }
   ],
   "source": [
    "# Logistic Regression\n",
    "lr = LogisticRegression(random_state=42)\n",
    "\n",
    "# Hyperparameter grid\n",
    "param_distributions = {\n",
    "    'C': [0.01, 0.1, 1.0, 10.0],\n",
    "    'max_iter': [100, 500, 1000],\n",
    "    'class_weight': [None, 'balanced']\n",
    "}\n",
    "\n",
    "# F1-score for scoring\n",
    "f1_scorer = make_scorer(f1_score, pos_label=1)\n",
    "\n",
    "# RandomizedSearchCV\n",
    "random_search = RandomizedSearchCV(\n",
    "    estimator=lr,\n",
    "    param_distributions=param_distributions,\n",
    "    n_iter=10,          # number of parameter settings sampled\n",
    "    scoring=f1_scorer,\n",
    "    cv=5,\n",
    "    n_jobs=-1,\n",
    "    verbose=1,\n",
    "    random_state=42\n",
    ")\n",
    "\n",
    "# Fit to training data\n",
    "random_search.fit(X_train_classification_scaled, y_train_classification)\n",
    "\n",
    "# Best parameters and test F1\n",
    "print(\"Best hyperparameters:\", random_search.best_params_)\n",
    "y_pred = random_search.best_estimator_.predict(X_test_classification_scaled)\n",
    "f1 = f1_score(y_test_classification, y_pred)\n",
    "print(f\"Test F1-score: {f1:.4f}\")\n"
   ]
  },
  {
   "cell_type": "code",
   "execution_count": null,
   "id": "7c6d7f99",
   "metadata": {},
   "outputs": [],
   "source": []
  },
  {
   "cell_type": "code",
   "execution_count": null,
   "id": "7c978085",
   "metadata": {},
   "outputs": [
    {
     "data": {
      "text/plain": [
       "10"
      ]
     },
     "execution_count": 30,
     "metadata": {},
     "output_type": "execute_result"
    }
   ],
   "source": [
    "target=\"rainfall\"\n",
    "list(data.columns).index(\"rainfall\")"
   ]
  },
  {
   "cell_type": "code",
   "execution_count": null,
   "id": "5bdf7c9e",
   "metadata": {},
   "outputs": [],
   "source": [
    "scaler = MinMaxScaler(feature_range=(-1,1))"
   ]
  },
  {
   "cell_type": "code",
   "execution_count": null,
   "id": "18aa6423",
   "metadata": {},
   "outputs": [],
   "source": [
    "train_scaled = scaler.fit_transform(data)"
   ]
  },
  {
   "cell_type": "code",
   "execution_count": null,
   "id": "afa4da25",
   "metadata": {},
   "outputs": [],
   "source": [
    "features_columns_index = [i for i in range(len(data.columns)) if i!=10]\n",
    "X_train = train_scaled[:, features_columns_index]\n",
    "y_train = train_scaled[:, 10]"
   ]
  },
  {
   "cell_type": "code",
   "execution_count": null,
   "id": "e0b630c8",
   "metadata": {},
   "outputs": [
    {
     "data": {
      "text/plain": [
       "(207,)"
      ]
     },
     "execution_count": 88,
     "metadata": {},
     "output_type": "execute_result"
    }
   ],
   "source": [
    "y_train.shape"
   ]
  },
  {
   "cell_type": "code",
   "execution_count": null,
   "id": "c3776c9a",
   "metadata": {},
   "outputs": [],
   "source": [
    "test_scaled = scaler.transform(data_test)"
   ]
  },
  {
   "cell_type": "code",
   "execution_count": null,
   "id": "f525b40f",
   "metadata": {},
   "outputs": [],
   "source": [
    "X_test = test_scaled[:, features_columns_index]\n",
    "y_test = test_scaled[:, 10]"
   ]
  },
  {
   "cell_type": "code",
   "execution_count": null,
   "id": "fad80a83",
   "metadata": {},
   "outputs": [],
   "source": [
    "X_train= dc(np.flip(X_train, axis=1))\n",
    "X_test= dc(np.flip(X_test, axis=1))\n",
    "X_train.shape"
   ]
  },
  {
   "cell_type": "code",
   "execution_count": null,
   "id": "da022d87",
   "metadata": {},
   "outputs": [
    {
     "data": {
      "text/plain": [
       "(207, 87)"
      ]
     },
     "execution_count": 94,
     "metadata": {},
     "output_type": "execute_result"
    }
   ],
   "source": [
    "X_train.shape"
   ]
  },
  {
   "cell_type": "code",
   "execution_count": null,
   "id": "9db055ba",
   "metadata": {},
   "outputs": [],
   "source": [
    "lookback= 87"
   ]
  },
  {
   "cell_type": "code",
   "execution_count": null,
   "id": "63b40e63",
   "metadata": {},
   "outputs": [],
   "source": [
    "X_train= dc(np.flip(X_train, axis=1))\n",
    "X_test= dc(np.flip(X_test, axis=1))\n",
    "X_train.shape[1]\n",
    "\n",
    "\n",
    "X_train = X_train.reshape((-1, lookback, 1))\n",
    "X_test = X_test.reshape((-1, lookback, 1))\n",
    "\n",
    "y_train =y_train.reshape((-1, 1))\n",
    "y_test =y_test.reshape((-1, 1))\n",
    "\n"
   ]
  },
  {
   "cell_type": "code",
   "execution_count": null,
   "id": "bcf8348c",
   "metadata": {},
   "outputs": [],
   "source": [
    "X_train = torch.tensor(X_train).float()\n",
    "y_train = torch.tensor(y_train).float()\n",
    "\n",
    "X_test = torch.tensor(X_test).float()\n",
    "y_test = torch.tensor(y_test).float()"
   ]
  },
  {
   "cell_type": "code",
   "execution_count": null,
   "id": "3fcca010",
   "metadata": {},
   "outputs": [],
   "source": [
    "class TimeSeriesDataset(Dataset):\n",
    "    def __init__(self, X, y):\n",
    "        self.X = X\n",
    "        self.y = y\n",
    "\n",
    "    def __len__(self):\n",
    "        return len(self.X)\n",
    "    def     __getitem__(self, i):\n",
    "        return self.X[i], self.y[i]\n",
    "\n",
    "train_dataset = TimeSeriesDataset(X_train, y_train)\n",
    "test_dataset = TimeSeriesDataset(X_test, y_test)"
   ]
  },
  {
   "cell_type": "code",
   "execution_count": null,
   "id": "a27fd038",
   "metadata": {},
   "outputs": [],
   "source": [
    "batch_size = 8\n",
    "train_loader =  DataLoader(train_dataset, batch_size = batch_size, shuffle=True)\n",
    "test_loader =  DataLoader(test_dataset, batch_size = batch_size, shuffle=True)"
   ]
  },
  {
   "cell_type": "code",
   "execution_count": null,
   "id": "dfe6ee84",
   "metadata": {},
   "outputs": [],
   "source": [
    "class LSTM(nn.Module):\n",
    "    def __init__(self, input_size, hidden_size, num_stacked_layers=2):\n",
    "        super().__init__()\n",
    "        self.hidden_size = hidden_size\n",
    "        self.num_stacked_layers = num_stacked_layers\n",
    "        self.lstm = nn.LSTM(input_size, hidden_size, num_stacked_layers, batch_first=True)\n",
    "        self.fc = nn.Linear(hidden_size, 1)\n",
    "\n",
    "    def forward(self, x):\n",
    "        bacth_size = x.size(0)\n",
    "        h0 = torch.zeros(self.num_stacked_layers, x.size(0), self.hidden_size).to(x.device)\n",
    "        c0 = torch.zeros(self.num_stacked_layers, x.size(0), self.hidden_size).to(x.device)\n",
    "\n",
    "        # Forward pass through LSTM\n",
    "        out, (hn, cn) = self.lstm(x, (h0, c0))\n",
    "        out = self.fc(out[:, -1, :])\n",
    "        return out, hn, cn"
   ]
  },
  {
   "cell_type": "code",
   "execution_count": null,
   "id": "f0f6738f",
   "metadata": {},
   "outputs": [
    {
     "data": {
      "text/plain": [
       "'cpu'"
      ]
     },
     "execution_count": 105,
     "metadata": {},
     "output_type": "execute_result"
    }
   ],
   "source": [
    "device = \"cuda\" if torch.cuda.is_available() else \"cpu\"\n",
    "device"
   ]
  },
  {
   "cell_type": "code",
   "execution_count": null,
   "id": "4468dc83",
   "metadata": {},
   "outputs": [],
   "source": [
    "def train_one_epoch(model,\n",
    "                    train_loader,\n",
    "                    test_loader,\n",
    "                    num_epochs, \n",
    "                    loss_function, \n",
    "                    optimizer,\n",
    "                    validate_one_epoch_function):\n",
    "    model.train(True)\n",
    "    for epoch in range(num_epochs):\n",
    "        print(f\"Epoch: {epoch+1}\")\n",
    "        running_loss = 0.0\n",
    "        for batch_index, batch in enumerate(train_loader):\n",
    "            x_batch, y_batch = batch[0].to(device), batch[1].to(device)\n",
    "            output,_ ,_= model(x_batch)\n",
    "\n",
    "            loss = loss_function(output, y_batch)\n",
    "            running_loss+=loss\n",
    "            optimizer.zero_grad()\n",
    "            loss.backward()\n",
    "            optimizer.step()\n",
    "\n",
    "\n",
    "        if batch_index % 100 == 99:\n",
    "            average_loss_across_batches = running_loss/100\n",
    "            print(\"Batch {0}, Loss: {1:.3f}\".format(batch_size+1, average_loss_across_batches))\n",
    "            running_loss = 0.0\n",
    "        validate_one_epoch_function(model, test_loader, loss_function)\n",
    "        print()\n",
    "    return model\n"
   ]
  },
  {
   "cell_type": "code",
   "execution_count": null,
   "id": "63371735",
   "metadata": {},
   "outputs": [],
   "source": [
    "def validate_one_epoch(model, test_loader, loss_function):\n",
    "    model.train(False)\n",
    "    running_loss = 0\n",
    "\n",
    "    for _, batch in enumerate(test_loader):\n",
    "        x_batch, y_batch = batch[0].to(device), batch[1].to(device)\n",
    "        with torch.no_grad():\n",
    "            output,_,_ = model(x_batch)\n",
    "\n",
    "            loss = loss_function(output, y_batch)\n",
    "            running_loss+=loss\n",
    "\n",
    "            average_loss_across_batches = running_loss/len(test_loader)\n",
    "    print(\"Val Loss {0:.3f}\".format(average_loss_across_batches))\n",
    "    print(\"**************************************************\")\n",
    "    print()\n"
   ]
  },
  {
   "cell_type": "code",
   "execution_count": null,
   "id": "8cdc4bc7",
   "metadata": {},
   "outputs": [
    {
     "data": {
      "text/plain": [
       "LSTM(\n",
       "  (lstm): LSTM(1, 20, num_layers=4, batch_first=True)\n",
       "  (fc): Linear(in_features=20, out_features=1, bias=True)\n",
       ")"
      ]
     },
     "execution_count": 148,
     "metadata": {},
     "output_type": "execute_result"
    }
   ],
   "source": [
    "model = LSTM(1, 20, 4)\n",
    "model.to(device)\n",
    "model\n",
    "\n",
    "device = \"cuda\" if torch.cuda.is_available() else \"cpu\"\n",
    "device"
   ]
  },
  {
   "cell_type": "code",
   "execution_count": null,
   "id": "1b6405d1",
   "metadata": {},
   "outputs": [
    {
     "name": "stdout",
     "output_type": "stream",
     "text": [
      "Epoch: 1\n"
     ]
    },
    {
     "name": "stdout",
     "output_type": "stream",
     "text": [
      "Val Loss 0.235\n",
      "**************************************************\n",
      "\n",
      "\n",
      "Epoch: 2\n",
      "Val Loss 0.040\n",
      "**************************************************\n",
      "\n",
      "\n",
      "Epoch: 3\n",
      "Val Loss 0.019\n",
      "**************************************************\n",
      "\n",
      "\n",
      "Epoch: 4\n",
      "Val Loss 0.029\n",
      "**************************************************\n",
      "\n",
      "\n",
      "Epoch: 5\n",
      "Val Loss 0.029\n",
      "**************************************************\n",
      "\n",
      "\n",
      "Epoch: 6\n",
      "Val Loss 0.021\n",
      "**************************************************\n",
      "\n",
      "\n",
      "Epoch: 7\n",
      "Val Loss 0.024\n",
      "**************************************************\n",
      "\n",
      "\n",
      "Epoch: 8\n",
      "Val Loss 0.028\n",
      "**************************************************\n",
      "\n",
      "\n",
      "Epoch: 9\n",
      "Val Loss 0.019\n",
      "**************************************************\n",
      "\n",
      "\n",
      "Epoch: 10\n",
      "Val Loss 0.019\n",
      "**************************************************\n",
      "\n",
      "\n",
      "Epoch: 11\n",
      "Val Loss 0.022\n",
      "**************************************************\n",
      "\n",
      "\n",
      "Epoch: 12\n",
      "Val Loss 0.031\n",
      "**************************************************\n",
      "\n",
      "\n",
      "Epoch: 13\n",
      "Val Loss 0.026\n",
      "**************************************************\n",
      "\n",
      "\n",
      "Epoch: 14\n",
      "Val Loss 0.030\n",
      "**************************************************\n",
      "\n",
      "\n",
      "Epoch: 15\n",
      "Val Loss 0.025\n",
      "**************************************************\n",
      "\n",
      "\n",
      "Epoch: 16\n",
      "Val Loss 0.033\n",
      "**************************************************\n",
      "\n",
      "\n",
      "Epoch: 17\n",
      "Val Loss 0.024\n",
      "**************************************************\n",
      "\n",
      "\n",
      "Epoch: 18\n",
      "Val Loss 0.025\n",
      "**************************************************\n",
      "\n",
      "\n",
      "Epoch: 19\n",
      "Val Loss 0.032\n",
      "**************************************************\n",
      "\n",
      "\n",
      "Epoch: 20\n",
      "Val Loss 0.027\n",
      "**************************************************\n",
      "\n",
      "\n",
      "Epoch: 21\n",
      "Val Loss 0.031\n",
      "**************************************************\n",
      "\n",
      "\n",
      "Epoch: 22\n",
      "Val Loss 0.026\n",
      "**************************************************\n",
      "\n",
      "\n",
      "Epoch: 23\n",
      "Val Loss 0.022\n",
      "**************************************************\n",
      "\n",
      "\n",
      "Epoch: 24\n",
      "Val Loss 0.029\n",
      "**************************************************\n",
      "\n",
      "\n",
      "Epoch: 25\n",
      "Val Loss 0.029\n",
      "**************************************************\n",
      "\n",
      "\n",
      "Epoch: 26\n",
      "Val Loss 0.018\n",
      "**************************************************\n",
      "\n",
      "\n",
      "Epoch: 27\n",
      "Val Loss 0.025\n",
      "**************************************************\n",
      "\n",
      "\n",
      "Epoch: 28\n",
      "Val Loss 0.022\n",
      "**************************************************\n",
      "\n",
      "\n",
      "Epoch: 29\n",
      "Val Loss 0.018\n",
      "**************************************************\n",
      "\n",
      "\n",
      "Epoch: 30\n",
      "Val Loss 0.019\n",
      "**************************************************\n",
      "\n",
      "\n",
      "Epoch: 31\n",
      "Val Loss 0.019\n",
      "**************************************************\n",
      "\n",
      "\n",
      "Epoch: 32\n",
      "Val Loss 0.018\n",
      "**************************************************\n",
      "\n",
      "\n",
      "Epoch: 33\n",
      "Val Loss 0.023\n",
      "**************************************************\n",
      "\n",
      "\n",
      "Epoch: 34\n",
      "Val Loss 0.022\n",
      "**************************************************\n",
      "\n",
      "\n",
      "Epoch: 35\n",
      "Val Loss 0.018\n",
      "**************************************************\n",
      "\n",
      "\n",
      "Epoch: 36\n",
      "Val Loss 0.021\n",
      "**************************************************\n",
      "\n",
      "\n",
      "Epoch: 37\n",
      "Val Loss 0.020\n",
      "**************************************************\n",
      "\n",
      "\n",
      "Epoch: 38\n",
      "Val Loss 0.023\n",
      "**************************************************\n",
      "\n",
      "\n",
      "Epoch: 39\n",
      "Val Loss 0.018\n",
      "**************************************************\n",
      "\n",
      "\n",
      "Epoch: 40\n",
      "Val Loss 0.033\n",
      "**************************************************\n",
      "\n",
      "\n",
      "Epoch: 41\n",
      "Val Loss 0.032\n",
      "**************************************************\n",
      "\n",
      "\n",
      "Epoch: 42\n",
      "Val Loss 0.022\n",
      "**************************************************\n",
      "\n",
      "\n",
      "Epoch: 43\n",
      "Val Loss 0.023\n",
      "**************************************************\n",
      "\n",
      "\n",
      "Epoch: 44\n",
      "Val Loss 0.022\n",
      "**************************************************\n",
      "\n",
      "\n",
      "Epoch: 45\n",
      "Val Loss 0.022\n",
      "**************************************************\n",
      "\n",
      "\n",
      "Epoch: 46\n",
      "Val Loss 0.018\n",
      "**************************************************\n",
      "\n",
      "\n",
      "Epoch: 47\n",
      "Val Loss 0.027\n",
      "**************************************************\n",
      "\n",
      "\n",
      "Epoch: 48\n",
      "Val Loss 0.018\n",
      "**************************************************\n",
      "\n",
      "\n",
      "Epoch: 49\n",
      "Val Loss 0.017\n",
      "**************************************************\n",
      "\n",
      "\n",
      "Epoch: 50\n",
      "Val Loss 0.025\n",
      "**************************************************\n",
      "\n",
      "\n",
      "Epoch: 51\n",
      "Val Loss 0.018\n",
      "**************************************************\n",
      "\n",
      "\n",
      "Epoch: 52\n",
      "Val Loss 0.018\n",
      "**************************************************\n",
      "\n",
      "\n",
      "Epoch: 53\n",
      "Val Loss 0.025\n",
      "**************************************************\n",
      "\n",
      "\n",
      "Epoch: 54\n",
      "Val Loss 0.027\n",
      "**************************************************\n",
      "\n",
      "\n",
      "Epoch: 55\n",
      "Val Loss 0.018\n",
      "**************************************************\n",
      "\n",
      "\n",
      "Epoch: 56\n",
      "Val Loss 0.018\n",
      "**************************************************\n",
      "\n",
      "\n",
      "Epoch: 57\n",
      "Val Loss 0.018\n",
      "**************************************************\n",
      "\n",
      "\n",
      "Epoch: 58\n",
      "Val Loss 0.028\n",
      "**************************************************\n",
      "\n",
      "\n",
      "Epoch: 59\n",
      "Val Loss 0.018\n",
      "**************************************************\n",
      "\n",
      "\n",
      "Epoch: 60\n",
      "Val Loss 0.019\n",
      "**************************************************\n",
      "\n",
      "\n",
      "Epoch: 61\n",
      "Val Loss 0.025\n",
      "**************************************************\n",
      "\n",
      "\n",
      "Epoch: 62\n",
      "Val Loss 0.018\n",
      "**************************************************\n",
      "\n",
      "\n",
      "Epoch: 63\n",
      "Val Loss 0.020\n",
      "**************************************************\n",
      "\n",
      "\n",
      "Epoch: 64\n",
      "Val Loss 0.020\n",
      "**************************************************\n",
      "\n",
      "\n",
      "Epoch: 65\n",
      "Val Loss 0.023\n",
      "**************************************************\n",
      "\n",
      "\n",
      "Epoch: 66\n",
      "Val Loss 0.018\n",
      "**************************************************\n",
      "\n",
      "\n",
      "Epoch: 67\n",
      "Val Loss 0.022\n",
      "**************************************************\n",
      "\n",
      "\n",
      "Epoch: 68\n",
      "Val Loss 0.019\n",
      "**************************************************\n",
      "\n",
      "\n",
      "Epoch: 69\n",
      "Val Loss 0.019\n",
      "**************************************************\n",
      "\n",
      "\n",
      "Epoch: 70\n",
      "Val Loss 0.021\n",
      "**************************************************\n",
      "\n",
      "\n",
      "Epoch: 71\n",
      "Val Loss 0.020\n",
      "**************************************************\n",
      "\n",
      "\n",
      "Epoch: 72\n",
      "Val Loss 0.023\n",
      "**************************************************\n",
      "\n",
      "\n",
      "Epoch: 73\n",
      "Val Loss 0.018\n",
      "**************************************************\n",
      "\n",
      "\n",
      "Epoch: 74\n",
      "Val Loss 0.020\n",
      "**************************************************\n",
      "\n",
      "\n",
      "Epoch: 75\n",
      "Val Loss 0.018\n",
      "**************************************************\n",
      "\n",
      "\n",
      "Epoch: 76\n",
      "Val Loss 0.017\n",
      "**************************************************\n",
      "\n",
      "\n",
      "Epoch: 77\n",
      "Val Loss 0.023\n",
      "**************************************************\n",
      "\n",
      "\n",
      "Epoch: 78\n",
      "Val Loss 0.018\n",
      "**************************************************\n",
      "\n",
      "\n",
      "Epoch: 79\n",
      "Val Loss 0.018\n",
      "**************************************************\n",
      "\n",
      "\n",
      "Epoch: 80\n",
      "Val Loss 0.018\n",
      "**************************************************\n",
      "\n",
      "\n",
      "Epoch: 81\n",
      "Val Loss 0.025\n",
      "**************************************************\n",
      "\n",
      "\n",
      "Epoch: 82\n",
      "Val Loss 0.027\n",
      "**************************************************\n",
      "\n",
      "\n",
      "Epoch: 83\n",
      "Val Loss 0.018\n",
      "**************************************************\n",
      "\n",
      "\n",
      "Epoch: 84\n",
      "Val Loss 0.021\n",
      "**************************************************\n",
      "\n",
      "\n",
      "Epoch: 85\n",
      "Val Loss 0.019\n",
      "**************************************************\n",
      "\n",
      "\n",
      "Epoch: 86\n",
      "Val Loss 0.018\n",
      "**************************************************\n",
      "\n",
      "\n",
      "Epoch: 87\n",
      "Val Loss 0.024\n",
      "**************************************************\n",
      "\n",
      "\n",
      "Epoch: 88\n",
      "Val Loss 0.018\n",
      "**************************************************\n",
      "\n",
      "\n",
      "Epoch: 89\n",
      "Val Loss 0.018\n",
      "**************************************************\n",
      "\n",
      "\n",
      "Epoch: 90\n",
      "Val Loss 0.018\n",
      "**************************************************\n",
      "\n",
      "\n",
      "Epoch: 91\n",
      "Val Loss 0.018\n",
      "**************************************************\n",
      "\n",
      "\n",
      "Epoch: 92\n",
      "Val Loss 0.018\n",
      "**************************************************\n",
      "\n",
      "\n",
      "Epoch: 93\n",
      "Val Loss 0.019\n",
      "**************************************************\n",
      "\n",
      "\n",
      "Epoch: 94\n",
      "Val Loss 0.018\n",
      "**************************************************\n",
      "\n",
      "\n",
      "Epoch: 95\n",
      "Val Loss 0.019\n",
      "**************************************************\n",
      "\n",
      "\n",
      "Epoch: 96\n",
      "Val Loss 0.019\n",
      "**************************************************\n",
      "\n",
      "\n",
      "Epoch: 97\n",
      "Val Loss 0.018\n",
      "**************************************************\n",
      "\n",
      "\n",
      "Epoch: 98\n",
      "Val Loss 0.027\n",
      "**************************************************\n",
      "\n",
      "\n",
      "Epoch: 99\n",
      "Val Loss 0.019\n",
      "**************************************************\n",
      "\n",
      "\n",
      "Epoch: 100\n",
      "Val Loss 0.018\n",
      "**************************************************\n",
      "\n",
      "\n"
     ]
    }
   ],
   "source": [
    "\n",
    "\n",
    "leraning_rate = 0.001\n",
    "num_epochs = 100\n",
    "optimizer = optim.Adam(model.parameters(), lr = leraning_rate)\n",
    "loss_function = nn.MSELoss()\n",
    "\n",
    "trained_model = train_one_epoch(model, train_loader,\n",
    "                    test_loader,\n",
    "                    num_epochs, \n",
    "                    loss_function, \n",
    "                    optimizer,\n",
    "                    validate_one_epoch)\n",
    "\n"
   ]
  },
  {
   "cell_type": "code",
   "execution_count": null,
   "id": "d6b3b7a1",
   "metadata": {},
   "outputs": [],
   "source": []
  },
  {
   "cell_type": "code",
   "execution_count": null,
   "id": "b16304fc",
   "metadata": {},
   "outputs": [
    {
     "data": {
      "image/png": "[encoded data removed]",
      "text/plain": [
       "<Figure size 640x480 with 1 Axes>"
      ]
     },
     "metadata": {},
     "output_type": "display_data"
    }
   ],
   "source": [
    "with torch.no_grad():\n",
    "    predicted,_ , _= trained_model(X_train.to(device))\n",
    "    predicted = predicted.to(\"cpu\").numpy()\n",
    "plt.plot(y_train, label = \"Actual Rainfall\")\n",
    "plt.plot(predicted, label = \"predicted Rainfall\")\n",
    "plt.xlabel(\"Day\")\n",
    "plt.ylabel(\"Rainfall\")\n",
    "plt.legend()\n",
    "plt.title(\"Evaluation on test set\")\n",
    "plt.show()"
   ]
  },
  {
   "cell_type": "code",
   "execution_count": null,
   "id": "6e7da393",
   "metadata": {},
   "outputs": [
    {
     "data": {
      "image/png": "[encoded data removed]",
      "text/plain": [
       "<Figure size 640x480 with 1 Axes>"
      ]
     },
     "metadata": {},
     "output_type": "display_data"
    }
   ],
   "source": [
    "with torch.no_grad():\n",
    "    predicted,_ , _= trained_model(X_test.to(device))\n",
    "    predicted = predicted.to(\"cpu\").numpy()\n",
    "plt.plot(y_test, label = \"Actual Rainfall\")\n",
    "plt.plot(predicted, label = \"predicted Rainfall\")\n",
    "plt.xlabel(\"Day\")\n",
    "plt.ylabel(\"Rainfall\")\n",
    "plt.legend()\n",
    "plt.title(\"Evaluation on test set\")\n",
    "plt.show()"
   ]
  },
  {
   "cell_type": "code",
   "execution_count": null,
   "id": "029d7351",
   "metadata": {},
   "outputs": [],
   "source": []
  },
  {
   "cell_type": "code",
   "execution_count": 11,
   "id": "841b6d1a",
   "metadata": {},
   "outputs": [],
   "source": [
    "from dataclasses import dataclass\n",
    "from pathlib import Path\n",
    "\n",
    "@dataclass(frozen=True)\n",
    "class ModelTrainerConfig:\n",
    "    root_dir: Path\n",
    "    train_data_path: Path\n",
    "    test_data_path: Path\n",
    "    scaler_name: str\n",
    "    classification_model_name: str\n",
    "    lstm_model_name: str\n",
    "    classification_model_params: dict\n",
    "    lstm_model_params: dict\n",
    "    target_column: dict\n",
    "    target_column_classification: dict\n",
    "    batch_size: int"
   ]
  },
  {
   "cell_type": "code",
   "execution_count": 48,
   "id": "e9a97175",
   "metadata": {},
   "outputs": [],
   "source": [
    "\n",
    "\n",
    "from mlProject.constants import *\n",
    "from mlProject.utils.common import read_yaml, create_directories\n",
    "from mlProject import logger\n"
   ]
  },
  {
   "cell_type": "code",
   "execution_count": 49,
   "id": "4713dc15",
   "metadata": {},
   "outputs": [],
   "source": [
    "class ConfigurationManager:\n",
    "    def __init__(\n",
    "        self,\n",
    "        config_filepath = CONFIG_FILE_PATH,\n",
    "        params_filepath = PARAMS_FILE_PATH,\n",
    "        schema_filepath = SCHEMA_FILE_PATH):\n",
    "\n",
    "        self.config = read_yaml(config_filepath)\n",
    "        self.params = read_yaml(params_filepath)\n",
    "        self.schema = read_yaml(schema_filepath)\n",
    "\n",
    "        create_directories([self.config.artifacts_root])\n",
    "\n",
    "\n",
    "    def get_model_trainer_config(self) -> ModelTrainerConfig:\n",
    "        config = self.config.model_trainer\n",
    "        models_params = self.params\n",
    "        schema =  self.schema\n",
    "\n",
    "        create_directories([config.root_dir])\n",
    "\n",
    "        model_trainer_config = ModelTrainerConfig(\n",
    "            root_dir=config.root_dir,\n",
    "            train_data_path = config.train_data_path,\n",
    "            test_data_path = config.test_data_path,\n",
    "            scaler_name = config.scaler_name,\n",
    "            classification_model_name = config.classification_model_name,\n",
    "            lstm_model_name = config.lstm_model_name,\n",
    "            classification_model_params = models_params.classification,\n",
    "            lstm_model_params = models_params.regression,\n",
    "            target_column = schema.TARGET_COLUMN,\n",
    "            target_column_classification = schema.TARGET_COLUMN_CLASSIFICATION,\n",
    "            batch_size=config.batch_size\n",
    "            \n",
    "            \n",
    "        )\n",
    "\n",
    "        return model_trainer_config"
   ]
  },
  {
   "cell_type": "code",
   "execution_count": null,
   "id": "ce9144bf",
   "metadata": {},
   "outputs": [],
   "source": [
    "\n",
    "class ModelTrainer:\n",
    "    def __init__(self, config: ModelTrainerConfig):\n",
    "        self.config = config\n",
    "\n",
    "    class TimeSeriesDataset(Dataset):\n",
    "        def __init__(self, X, y):\n",
    "            self.X = X\n",
    "            self.y = y\n",
    "\n",
    "        def __len__(self):\n",
    "            return len(self.X)\n",
    "        def     __getitem__(self, i):\n",
    "            return self.X[i], self.y[i]\n",
    "    class LSTM(nn.Module):\n",
    "        def __init__(self, input_size, hidden_size, num_stacked_layers=2, device=\"cpu\"):\n",
    "            super().__init__()\n",
    "            self.hidden_size = hidden_size\n",
    "            self.num_stacked_layers = num_stacked_layers\n",
    "            self.lstm = nn.LSTM(input_size, hidden_size, num_stacked_layers, batch_first=True)\n",
    "            self.fc = nn.Linear(hidden_size, 1)\n",
    "            self.device = device\n",
    "\n",
    "        def forward(self, x):\n",
    "            bacth_size = x.size(0)\n",
    "            h0 = torch.zeros(self.num_stacked_layers, bacth_size, self.hidden_size).to(self.device)\n",
    "            c0 = torch.zeros(self.num_stacked_layers, bacth_size, self.hidden_size).to(self.device )\n",
    "\n",
    "            # Forward pass through LSTM\n",
    "            out, (hn, cn) = self.lstm(x, (h0, c0))\n",
    "            out = self.fc(out[:, -1, :])\n",
    "            return out, hn, cn\n",
    "\n",
    "    def validate_one_epoch(self, model, test_loader, loss_function, device):\n",
    "        model.train(False)\n",
    "        running_loss = 0\n",
    "\n",
    "        for _, batch in enumerate(test_loader):\n",
    "            x_batch, y_batch = batch[0].to(device), batch[1].to(device)\n",
    "            with torch.no_grad():\n",
    "                output,_,_ = model(x_batch)\n",
    "\n",
    "                loss = loss_function(output, y_batch)\n",
    "                running_loss+=loss\n",
    "\n",
    "        average_loss_across_batches = running_loss/len(test_loader)\n",
    "        logger.info(\"Val Loss {0:.3f}\".format(average_loss_across_batches))\n",
    "\n",
    "\n",
    "    def training(self, model,\n",
    "                    train_loader,\n",
    "                    test_loader,\n",
    "                    num_epochs, \n",
    "                    loss_function, \n",
    "                    optimizer,\n",
    "                    validate_one_epoch_function, device):\n",
    "        model.train(True)\n",
    "        for epoch in range(1, num_epochs+1):\n",
    "            running_loss = 0.0\n",
    "            for batch_index, batch in enumerate(train_loader):\n",
    "                x_batch, y_batch = batch[0].to(device), batch[1].to(device)\n",
    "                output,_ ,_= model(x_batch)        \n",
    "\n",
    "                loss = loss_function(output, y_batch)\n",
    "                running_loss+=loss\n",
    "                optimizer.zero_grad()\n",
    "                loss.backward()\n",
    "                optimizer.step()\n",
    "\n",
    "\n",
    "            if epoch % 10 == 0:\n",
    "                average_loss_across_batches = running_loss/100\n",
    "                logger.info(f\"Epoch :{epoch}, Loss: {average_loss_across_batches}\")\n",
    "                validate_one_epoch_function(model, test_loader, loss_function, device)\n",
    "            running_loss = 0.0\n",
    "            \n",
    "        return model\n",
    "\n",
    "\n",
    "    def train(self):\n",
    "        train_data = pd.read_csv(self.config.train_data_path, index_col=\"time\")\n",
    "        test_data = pd.read_csv(self.config.test_data_path, index_col=\"time\")\n",
    "        \n",
    "        classification_target_column = list(self.config.target_column_classification.keys())[0]\n",
    "        regression_target_column = list(self.config.target_column.keys())[0]\n",
    "        targets_columns = [classification_target_column, regression_target_column]\n",
    "\n",
    "        # Features\n",
    "        X_train_classification = train_data.drop(columns=targets_columns).values\n",
    "        X_test_classification = test_data.drop(columns=targets_columns).values\n",
    "\n",
    "        # Target\n",
    "        classification_y_train  = train_data[classification_target_column]\n",
    "        classification_y_test = test_data[classification_target_column]\n",
    "\n",
    "\n",
    "        # Scale features\n",
    "        scaler = StandardScaler()\n",
    "        X_train_classification_scaled = scaler.fit_transform(X_train_classification)\n",
    "        X_test_classification_scaled = scaler.transform(X_test_classification)\n",
    "\n",
    "        # Train logistic regression\n",
    "        lr = LogisticRegression(**self.config.classification_model_params)\n",
    "        lr.fit(X_train_classification_scaled, classification_y_train)\n",
    "\n",
    "        # Save scaler and model\n",
    "        joblib.dump(scaler, os.path.join(self.config.root_dir, self.config.scaler_name))\n",
    "        joblib.dump(lr, os.path.join(self.config.root_dir, self.config.classification_model_name))\n",
    "\n",
    "\n",
    "        ## Lstm model\n",
    "        X_train= dc(np.flip(X_train_classification_scaled, axis=1))\n",
    "        X_test= dc(np.flip(X_test_classification_scaled, axis=1))\n",
    "        vars_dim = X_train.shape[1]\n",
    "\n",
    "\n",
    "        X_train = X_train.reshape((-1, vars_dim, 1))\n",
    "        X_test = X_test.reshape((-1, vars_dim, 1))\n",
    "\n",
    "        \n",
    "        y_train =  train_data[regression_target_column].values\n",
    "        y_test =  test_data[regression_target_column].values\n",
    "        y_train =y_train.reshape((-1, 1))\n",
    "        y_test =y_test.reshape((-1, 1))\n",
    "        \n",
    "        X_train = torch.tensor(X_train).float()\n",
    "        y_train = torch.tensor(y_train).float()\n",
    "\n",
    "        X_test = torch.tensor(X_test).float()\n",
    "        y_test = torch.tensor(y_test).float()\n",
    "        \n",
    "        train_dataset = self.TimeSeriesDataset(X_train, y_train)\n",
    "        test_dataset = self.TimeSeriesDataset(X_test, y_test)\n",
    "        batch_size = self.config.batch_size\n",
    "        \n",
    "        train_loader =  DataLoader(train_dataset, batch_size = batch_size, shuffle=True)\n",
    "        test_loader =  DataLoader(test_dataset, batch_size = batch_size, shuffle=True)\n",
    "        \n",
    "        device = \"cuda\" if torch.cuda.is_available() else \"cpu\"\n",
    "        \n",
    "        input_size = self.config.lstm_model_params.input_size\n",
    "        hidden_size = self.config.lstm_model_params.hidden_size\n",
    "        num_stacked_layers = self.config.lstm_model_params.num_stacked_layers\n",
    "        model = self.LSTM(input_size, hidden_size, num_stacked_layers, device=device)\n",
    "        \n",
    "        model.to(device)\n",
    "\n",
    "        \n",
    "        leraning_rate = float(self.config.lstm_model_params.learning_rate)\n",
    "        num_epochs = self.config.lstm_model_params.num_epochs\n",
    "        optimizer = optim.Adam(model.parameters(), lr = leraning_rate)\n",
    "        loss_function = nn.MSELoss()\n",
    "\n",
    "        trained_model = self.training(\n",
    "                                    model,\n",
    "                                    train_loader,\n",
    "                                    test_loader,\n",
    "                                    num_epochs, \n",
    "                                    loss_function, \n",
    "                                    optimizer,\n",
    "                                    self.validate_one_epoch,\n",
    "                                    device=device)\n",
    "\n",
    "        torch.save(trained_model,  os.path.join(self.config.root_dir, self.config.lstm_model_name))\n",
    "                \n",
    "        logger.info(\"Training completed and models saved.\")"
   ]
  },
  {
   "cell_type": "code",
   "execution_count": 51,
   "id": "18a3d200",
   "metadata": {},
   "outputs": [
    {
     "name": "stdout",
     "output_type": "stream",
     "text": [
      "[2025-09-29 09:56:59,463: INFO: common: yaml file: config/config.yaml loaded successfully]\n",
      "[2025-09-29 09:56:59,464: INFO: common: yaml file: params.yaml loaded successfully]\n",
      "[2025-09-29 09:56:59,467: INFO: common: yaml file: schema.yaml loaded successfully]\n",
      "[2025-09-29 09:56:59,468: INFO: common: created directory at: artifacts]\n",
      "[2025-09-29 09:56:59,469: INFO: common: created directory at: artifacts/model_trainer]\n",
      "[2025-09-29 09:57:04,179: INFO: 3987842278: Epoch :10, Loss: 44.64299774169922]\n",
      "[2025-09-29 09:57:04,223: INFO: 3987842278: Val Loss 46.543]\n",
      "[2025-09-29 09:57:08,756: INFO: 3987842278: Epoch :20, Loss: 41.57198715209961]\n",
      "[2025-09-29 09:57:08,805: INFO: 3987842278: Val Loss 38.715]\n",
      "[2025-09-29 09:57:13,305: INFO: 3987842278: Epoch :30, Loss: 39.04758071899414]\n",
      "[2025-09-29 09:57:13,353: INFO: 3987842278: Val Loss 39.195]\n",
      "[2025-09-29 09:57:17,811: INFO: 3987842278: Epoch :40, Loss: 34.928001403808594]\n",
      "[2025-09-29 09:57:17,857: INFO: 3987842278: Val Loss 53.045]\n",
      "[2025-09-29 09:57:22,297: INFO: 3987842278: Epoch :50, Loss: 33.01870346069336]\n",
      "[2025-09-29 09:57:22,342: INFO: 3987842278: Val Loss 41.531]\n",
      "[2025-09-29 09:57:26,915: INFO: 3987842278: Epoch :60, Loss: 29.7041072845459]\n",
      "[2025-09-29 09:57:26,963: INFO: 3987842278: Val Loss 52.926]\n",
      "[2025-09-29 09:57:31,483: INFO: 3987842278: Epoch :70, Loss: 30.505659103393555]\n",
      "[2025-09-29 09:57:31,570: INFO: 3987842278: Val Loss 39.066]\n",
      "[2025-09-29 09:57:35,923: INFO: 3987842278: Epoch :80, Loss: 26.941415786743164]\n",
      "[2025-09-29 09:57:35,967: INFO: 3987842278: Val Loss 39.393]\n",
      "[2025-09-29 09:57:40,390: INFO: 3987842278: Epoch :90, Loss: 26.380475997924805]\n",
      "[2025-09-29 09:57:40,429: INFO: 3987842278: Val Loss 51.105]\n",
      "[2025-09-29 09:57:44,857: INFO: 3987842278: Epoch :100, Loss: 22.850812911987305]\n",
      "[2025-09-29 09:57:44,902: INFO: 3987842278: Val Loss 38.707]\n",
      "[2025-09-29 09:57:44,906: INFO: 3987842278: Training completed and models saved.]\n"
     ]
    }
   ],
   "source": [
    "try:\n",
    "    config = ConfigurationManager()\n",
    "    model_trainer_config = config.get_model_trainer_config()\n",
    "    model_trainer_config = ModelTrainer(config=model_trainer_config)\n",
    "    model_trainer_config.train()\n",
    "except Exception as e:\n",
    "    raise e"
   ]
  },
  {
   "cell_type": "code",
   "execution_count": null,
   "id": "34b84e07",
   "metadata": {},
   "outputs": [],
   "source": []
  }
 ],
 "metadata": {
  "kernelspec": {
   "display_name": "rain-pred",
   "language": "python",
   "name": "rain-pred"
  },
  "language_info": {
   "codemirror_mode": {
    "name": "ipython",
    "version": 3
   },
   "file_extension": ".py",
   "mimetype": "text/x-python",
   "name": "python",
   "nbconvert_exporter": "python",
   "pygments_lexer": "ipython3",
   "version": "3.12.3"
  }
 },
 "nbformat": 4,
 "nbformat_minor": 5
}
