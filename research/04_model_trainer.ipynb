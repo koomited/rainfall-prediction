{
 "cells": [
  {
   "cell_type": "code",
   "execution_count": 1,
   "id": "9c42e485",
   "metadata": {},
   "outputs": [
    {
     "data": {
      "text/plain": [
       "'/home/ubuntu/africlimateai/rainfall-prediction'"
      ]
     },
     "execution_count": 1,
     "metadata": {},
     "output_type": "execute_result"
    }
   ],
   "source": [
    "import os\n",
    "\n",
    "%pwd\n",
    "\n",
    "'/home/tousside/Documents/recrutement/cowrywise-customer-plan-abandonment/research'\n",
    "\n",
    "os.chdir(\"../\")\n",
    "\n",
    "%pwd\n",
    "\n"
   ]
  },
  {
   "cell_type": "code",
   "execution_count": 81,
   "id": "3207e40a",
   "metadata": {},
   "outputs": [
    {
     "name": "stdout",
     "output_type": "stream",
     "text": [
      "<class 'pandas.core.frame.DataFrame'>\n",
      "Index: 207 entries, 2024-11-27 to 2025-06-21\n",
      "Data columns (total 88 columns):\n",
      " #   Column                  Non-Null Count  Dtype  \n",
      "---  ------                  --------------  -----  \n",
      " 0   temperature             207 non-null    float64\n",
      " 1   feels_like              207 non-null    float64\n",
      " 2   app_temp                207 non-null    float64\n",
      " 3   dew_point               207 non-null    float64\n",
      " 4   humidity                207 non-null    float64\n",
      " 5   wind_direction          207 non-null    float64\n",
      " 6   wind_speed              207 non-null    float64\n",
      " 7   wind_gust               207 non-null    float64\n",
      " 8   pressure_relative       207 non-null    float64\n",
      " 9   pressure_absolute       207 non-null    float64\n",
      " 10  rainfall                207 non-null    float64\n",
      " 11  temperature(t-1)        207 non-null    float64\n",
      " 12  temperature(t-2)        207 non-null    float64\n",
      " 13  temperature(t-3)        207 non-null    float64\n",
      " 14  temperature(t-4)        207 non-null    float64\n",
      " 15  temperature(t-5)        207 non-null    float64\n",
      " 16  temperature(t-6)        207 non-null    float64\n",
      " 17  temperature(t-7)        207 non-null    float64\n",
      " 18  feels_like(t-1)         207 non-null    float64\n",
      " 19  feels_like(t-2)         207 non-null    float64\n",
      " 20  feels_like(t-3)         207 non-null    float64\n",
      " 21  feels_like(t-4)         207 non-null    float64\n",
      " 22  feels_like(t-5)         207 non-null    float64\n",
      " 23  feels_like(t-6)         207 non-null    float64\n",
      " 24  feels_like(t-7)         207 non-null    float64\n",
      " 25  app_temp(t-1)           207 non-null    float64\n",
      " 26  app_temp(t-2)           207 non-null    float64\n",
      " 27  app_temp(t-3)           207 non-null    float64\n",
      " 28  app_temp(t-4)           207 non-null    float64\n",
      " 29  app_temp(t-5)           207 non-null    float64\n",
      " 30  app_temp(t-6)           207 non-null    float64\n",
      " 31  app_temp(t-7)           207 non-null    float64\n",
      " 32  dew_point(t-1)          207 non-null    float64\n",
      " 33  dew_point(t-2)          207 non-null    float64\n",
      " 34  dew_point(t-3)          207 non-null    float64\n",
      " 35  dew_point(t-4)          207 non-null    float64\n",
      " 36  dew_point(t-5)          207 non-null    float64\n",
      " 37  dew_point(t-6)          207 non-null    float64\n",
      " 38  dew_point(t-7)          207 non-null    float64\n",
      " 39  humidity(t-1)           207 non-null    float64\n",
      " 40  humidity(t-2)           207 non-null    float64\n",
      " 41  humidity(t-3)           207 non-null    float64\n",
      " 42  humidity(t-4)           207 non-null    float64\n",
      " 43  humidity(t-5)           207 non-null    float64\n",
      " 44  humidity(t-6)           207 non-null    float64\n",
      " 45  humidity(t-7)           207 non-null    float64\n",
      " 46  wind_direction(t-1)     207 non-null    float64\n",
      " 47  wind_direction(t-2)     207 non-null    float64\n",
      " 48  wind_direction(t-3)     207 non-null    float64\n",
      " 49  wind_direction(t-4)     207 non-null    float64\n",
      " 50  wind_direction(t-5)     207 non-null    float64\n",
      " 51  wind_direction(t-6)     207 non-null    float64\n",
      " 52  wind_direction(t-7)     207 non-null    float64\n",
      " 53  wind_speed(t-1)         207 non-null    float64\n",
      " 54  wind_speed(t-2)         207 non-null    float64\n",
      " 55  wind_speed(t-3)         207 non-null    float64\n",
      " 56  wind_speed(t-4)         207 non-null    float64\n",
      " 57  wind_speed(t-5)         207 non-null    float64\n",
      " 58  wind_speed(t-6)         207 non-null    float64\n",
      " 59  wind_speed(t-7)         207 non-null    float64\n",
      " 60  wind_gust(t-1)          207 non-null    float64\n",
      " 61  wind_gust(t-2)          207 non-null    float64\n",
      " 62  wind_gust(t-3)          207 non-null    float64\n",
      " 63  wind_gust(t-4)          207 non-null    float64\n",
      " 64  wind_gust(t-5)          207 non-null    float64\n",
      " 65  wind_gust(t-6)          207 non-null    float64\n",
      " 66  wind_gust(t-7)          207 non-null    float64\n",
      " 67  pressure_relative(t-1)  207 non-null    float64\n",
      " 68  pressure_relative(t-2)  207 non-null    float64\n",
      " 69  pressure_relative(t-3)  207 non-null    float64\n",
      " 70  pressure_relative(t-4)  207 non-null    float64\n",
      " 71  pressure_relative(t-5)  207 non-null    float64\n",
      " 72  pressure_relative(t-6)  207 non-null    float64\n",
      " 73  pressure_relative(t-7)  207 non-null    float64\n",
      " 74  pressure_absolute(t-1)  207 non-null    float64\n",
      " 75  pressure_absolute(t-2)  207 non-null    float64\n",
      " 76  pressure_absolute(t-3)  207 non-null    float64\n",
      " 77  pressure_absolute(t-4)  207 non-null    float64\n",
      " 78  pressure_absolute(t-5)  207 non-null    float64\n",
      " 79  pressure_absolute(t-6)  207 non-null    float64\n",
      " 80  pressure_absolute(t-7)  207 non-null    float64\n",
      " 81  rainfall(t-1)           207 non-null    float64\n",
      " 82  rainfall(t-2)           207 non-null    float64\n",
      " 83  rainfall(t-3)           207 non-null    float64\n",
      " 84  rainfall(t-4)           207 non-null    float64\n",
      " 85  rainfall(t-5)           207 non-null    float64\n",
      " 86  rainfall(t-6)           207 non-null    float64\n",
      " 87  rainfall(t-7)           207 non-null    float64\n",
      "dtypes: float64(88)\n",
      "memory usage: 143.9+ KB\n"
     ]
    }
   ],
   "source": [
    "import pandas as pd\n",
    "\n",
    "data = pd.read_csv(\"artifacts/data_transformation/train.csv\", index_col=\"time\")\n",
    "data_test = pd.read_csv(\"artifacts/data_transformation/test.csv\", index_col=\"time\")\n",
    "\n",
    "data.info()\n",
    "\n"
   ]
  },
  {
   "cell_type": "code",
   "execution_count": 82,
   "id": "31d5f327",
   "metadata": {},
   "outputs": [
    {
     "data": {
      "text/plain": [
       "Index(['temperature', 'feels_like', 'app_temp', 'dew_point', 'humidity',\n",
       "       'wind_direction', 'wind_speed', 'wind_gust', 'pressure_relative',\n",
       "       'pressure_absolute', 'rainfall', 'temperature(t-1)', 'temperature(t-2)',\n",
       "       'temperature(t-3)', 'temperature(t-4)', 'temperature(t-5)',\n",
       "       'temperature(t-6)', 'temperature(t-7)', 'feels_like(t-1)',\n",
       "       'feels_like(t-2)', 'feels_like(t-3)', 'feels_like(t-4)',\n",
       "       'feels_like(t-5)', 'feels_like(t-6)', 'feels_like(t-7)',\n",
       "       'app_temp(t-1)', 'app_temp(t-2)', 'app_temp(t-3)', 'app_temp(t-4)',\n",
       "       'app_temp(t-5)', 'app_temp(t-6)', 'app_temp(t-7)', 'dew_point(t-1)',\n",
       "       'dew_point(t-2)', 'dew_point(t-3)', 'dew_point(t-4)', 'dew_point(t-5)',\n",
       "       'dew_point(t-6)', 'dew_point(t-7)', 'humidity(t-1)', 'humidity(t-2)',\n",
       "       'humidity(t-3)', 'humidity(t-4)', 'humidity(t-5)', 'humidity(t-6)',\n",
       "       'humidity(t-7)', 'wind_direction(t-1)', 'wind_direction(t-2)',\n",
       "       'wind_direction(t-3)', 'wind_direction(t-4)', 'wind_direction(t-5)',\n",
       "       'wind_direction(t-6)', 'wind_direction(t-7)', 'wind_speed(t-1)',\n",
       "       'wind_speed(t-2)', 'wind_speed(t-3)', 'wind_speed(t-4)',\n",
       "       'wind_speed(t-5)', 'wind_speed(t-6)', 'wind_speed(t-7)',\n",
       "       'wind_gust(t-1)', 'wind_gust(t-2)', 'wind_gust(t-3)', 'wind_gust(t-4)',\n",
       "       'wind_gust(t-5)', 'wind_gust(t-6)', 'wind_gust(t-7)',\n",
       "       'pressure_relative(t-1)', 'pressure_relative(t-2)',\n",
       "       'pressure_relative(t-3)', 'pressure_relative(t-4)',\n",
       "       'pressure_relative(t-5)', 'pressure_relative(t-6)',\n",
       "       'pressure_relative(t-7)', 'pressure_absolute(t-1)',\n",
       "       'pressure_absolute(t-2)', 'pressure_absolute(t-3)',\n",
       "       'pressure_absolute(t-4)', 'pressure_absolute(t-5)',\n",
       "       'pressure_absolute(t-6)', 'pressure_absolute(t-7)', 'rainfall(t-1)',\n",
       "       'rainfall(t-2)', 'rainfall(t-3)', 'rainfall(t-4)', 'rainfall(t-5)',\n",
       "       'rainfall(t-6)', 'rainfall(t-7)'],\n",
       "      dtype='object')"
      ]
     },
     "execution_count": 82,
     "metadata": {},
     "output_type": "execute_result"
    }
   ],
   "source": [
    "data.columns"
   ]
  },
  {
   "cell_type": "code",
   "execution_count": 83,
   "id": "7c6d7f99",
   "metadata": {},
   "outputs": [],
   "source": [
    "import pandas as pd\n",
    "import numpy as np\n",
    "import matplotlib.pyplot as plt\n",
    "\n",
    "import torch\n",
    "import torch.nn as nn\n",
    "from torch.utils.data import Dataset\n",
    "from torch import optim\n",
    "from torch.utils.data import DataLoader\n",
    "from copy import deepcopy as dc"
   ]
  },
  {
   "cell_type": "code",
   "execution_count": 84,
   "id": "7c978085",
   "metadata": {},
   "outputs": [
    {
     "data": {
      "text/plain": [
       "10"
      ]
     },
     "execution_count": 84,
     "metadata": {},
     "output_type": "execute_result"
    }
   ],
   "source": [
    "target=\"rainfall\"\n",
    "list(data.columns).index(\"rainfall\")"
   ]
  },
  {
   "cell_type": "code",
   "execution_count": 85,
   "id": "5bdf7c9e",
   "metadata": {},
   "outputs": [],
   "source": [
    "from sklearn.preprocessing import MinMaxScaler\n",
    "scaler = MinMaxScaler(feature_range=(-1,1))"
   ]
  },
  {
   "cell_type": "code",
   "execution_count": 86,
   "id": "18aa6423",
   "metadata": {},
   "outputs": [],
   "source": [
    "train_scaled = scaler.fit_transform(data)"
   ]
  },
  {
   "cell_type": "code",
   "execution_count": 87,
   "id": "afa4da25",
   "metadata": {},
   "outputs": [],
   "source": [
    "features_columns_index = [i for i in range(len(data.columns)) if i!=10]\n",
    "X_train = train_scaled[:, features_columns_index]\n",
    "y_train = train_scaled[:, 10]"
   ]
  },
  {
   "cell_type": "code",
   "execution_count": 88,
   "id": "e0b630c8",
   "metadata": {},
   "outputs": [
    {
     "data": {
      "text/plain": [
       "(207,)"
      ]
     },
     "execution_count": 88,
     "metadata": {},
     "output_type": "execute_result"
    }
   ],
   "source": [
    "y_train.shape"
   ]
  },
  {
   "cell_type": "code",
   "execution_count": 89,
   "id": "c3776c9a",
   "metadata": {},
   "outputs": [],
   "source": [
    "test_scaled = scaler.transform(data_test)"
   ]
  },
  {
   "cell_type": "code",
   "execution_count": 90,
   "id": "f525b40f",
   "metadata": {},
   "outputs": [],
   "source": [
    "X_test = test_scaled[:, features_columns_index]\n",
    "y_test = test_scaled[:, 10]"
   ]
  },
  {
   "cell_type": "code",
   "execution_count": 91,
   "id": "fad80a83",
   "metadata": {},
   "outputs": [],
   "source": [
    "X_train= dc(np.flip(X_train, axis=1))\n",
    "X_test= dc(np.flip(X_test, axis=1))\n"
   ]
  },
  {
   "cell_type": "code",
   "execution_count": 94,
   "id": "da022d87",
   "metadata": {},
   "outputs": [
    {
     "data": {
      "text/plain": [
       "(207, 87)"
      ]
     },
     "execution_count": 94,
     "metadata": {},
     "output_type": "execute_result"
    }
   ],
   "source": [
    "X_train.shape"
   ]
  },
  {
   "cell_type": "code",
   "execution_count": 95,
   "id": "9db055ba",
   "metadata": {},
   "outputs": [],
   "source": [
    "lookback= 87"
   ]
  },
  {
   "cell_type": "code",
   "execution_count": 96,
   "id": "63b40e63",
   "metadata": {},
   "outputs": [],
   "source": [
    "X_train = X_train.reshape((-1, lookback, 1))\n",
    "X_test = X_test.reshape((-1, lookback, 1))\n",
    "\n",
    "y_train =y_train.reshape((-1, 1))\n",
    "y_test =y_test.reshape((-1, 1))\n"
   ]
  },
  {
   "cell_type": "code",
   "execution_count": 99,
   "id": "bcf8348c",
   "metadata": {},
   "outputs": [],
   "source": [
    "X_train = torch.tensor(X_train).float()\n",
    "y_train = torch.tensor(y_train).float()\n",
    "\n",
    "X_test = torch.tensor(X_test).float()\n",
    "y_test = torch.tensor(y_test).float()"
   ]
  },
  {
   "cell_type": "code",
   "execution_count": 102,
   "id": "3fcca010",
   "metadata": {},
   "outputs": [],
   "source": [
    "class TimeSeriesDataset(Dataset):\n",
    "    def __init__(self, X, y):\n",
    "        self.X = X\n",
    "        self.y = y\n",
    "\n",
    "    def __len__(self):\n",
    "        return len(self.X)\n",
    "    def     __getitem__(self, i):\n",
    "        return self.X[i], self.y[i]\n",
    "\n",
    "train_dataset = TimeSeriesDataset(X_train, y_train)\n",
    "test_dataset = TimeSeriesDataset(X_test, y_test)"
   ]
  },
  {
   "cell_type": "code",
   "execution_count": 103,
   "id": "a27fd038",
   "metadata": {},
   "outputs": [],
   "source": [
    "batch_size = 8\n",
    "train_loader =  DataLoader(train_dataset, batch_size = batch_size, shuffle=True)\n",
    "test_loader =  DataLoader(test_dataset, batch_size = batch_size, shuffle=True)"
   ]
  },
  {
   "cell_type": "code",
   "execution_count": 104,
   "id": "dfe6ee84",
   "metadata": {},
   "outputs": [],
   "source": [
    "class LSTM(nn.Module):\n",
    "    def __init__(self, input_size, hidden_size, num_stacked_layers=2):\n",
    "        super().__init__()\n",
    "        self.hidden_size = hidden_size\n",
    "        self.num_stacked_layers = num_stacked_layers\n",
    "        self.lstm = nn.LSTM(input_size, hidden_size, num_stacked_layers, batch_first=True)\n",
    "        self.fc = nn.Linear(hidden_size, 1)\n",
    "\n",
    "    def forward(self, x):\n",
    "        bacth_size = x.size(0)\n",
    "        h0 = torch.zeros(self.num_stacked_layers, x.size(0), self.hidden_size).to(x.device)\n",
    "        c0 = torch.zeros(self.num_stacked_layers, x.size(0), self.hidden_size).to(x.device)\n",
    "\n",
    "        # Forward pass through LSTM\n",
    "        out, (hn, cn) = self.lstm(x, (h0, c0))\n",
    "        out = self.fc(out[:, -1, :])\n",
    "        return out, hn, cn"
   ]
  },
  {
   "cell_type": "code",
   "execution_count": 105,
   "id": "f0f6738f",
   "metadata": {},
   "outputs": [
    {
     "data": {
      "text/plain": [
       "'cpu'"
      ]
     },
     "execution_count": 105,
     "metadata": {},
     "output_type": "execute_result"
    }
   ],
   "source": [
    "device = \"cuda\" if torch.cuda.is_available() else \"cpu\"\n",
    "device"
   ]
  },
  {
   "cell_type": "code",
   "execution_count": 114,
   "metadata": {},
   "outputs": [
    {
     "data": {
      "text/plain": [
       "LSTM(\n",
       "  (lstm): LSTM(1, 4, batch_first=True)\n",
       "  (fc): Linear(in_features=4, out_features=1, bias=True)\n",
       ")"
      ]
     },
     "execution_count": 114,
     "metadata": {},
     "output_type": "execute_result"
    }
   ],
   "source": [
    "model = LSTM(1, 4, 1)\n",
    "model.to(device)\n",
    "model"
   ]
  },
  {
   "cell_type": "code",
   "execution_count": 107,
   "id": "4468dc83",
   "metadata": {},
   "outputs": [],
   "source": [
    "def train_one_epoch(train_loader,\n",
    "                    test_loader,\n",
    "                    num_epochs, \n",
    "                    loss_function, \n",
    "                    optimizer,\n",
    "                    validate_one_epoch_function):\n",
    "    model.train(True)\n",
    "    for epoch in range(num_epochs):\n",
    "        print(f\"Epoch: {epoch+1}\")\n",
    "        running_loss = 0.0\n",
    "        for batch_index, batch in enumerate(train_loader):\n",
    "            x_batch, y_batch = batch[0].to(device), batch[1].to(device)\n",
    "            output,_ ,_= model(x_batch)\n",
    "\n",
    "            loss = loss_function(output, y_batch)\n",
    "            running_loss+=loss\n",
    "            optimizer.zero_grad()\n",
    "            loss.backward()\n",
    "            optimizer.step()\n",
    "\n",
    "\n",
    "        if batch_index % 100 == 99:\n",
    "            average_loss_across_batches = running_loss/100\n",
    "            print(\"Batch {0}, Loss: {1:.3f}\".format(batch_size+1, average_loss_across_batches))\n",
    "            running_loss = 0.0\n",
    "        validate_one_epoch_function(test_loader, loss_function)\n",
    "        print()\n"
   ]
  },
  {
   "cell_type": "code",
   "execution_count": 108,
   "id": "63371735",
   "metadata": {},
   "outputs": [],
   "source": [
    "def validate_one_epoch(test_loader, loss_function):\n",
    "    model.train(False)\n",
    "    running_loss = 0\n",
    "\n",
    "    for _, batch in enumerate(test_loader):\n",
    "        x_batch, y_batch = batch[0].to(device), batch[1].to(device)\n",
    "        with torch.no_grad():\n",
    "            output,_,_ = model(x_batch)\n",
    "\n",
    "            loss = loss_function(output, y_batch)\n",
    "            running_loss+=loss\n",
    "\n",
    "            average_loss_across_batches = running_loss/len(test_loader)\n",
    "    print(\"Val Loss {0:.3f}\".format(average_loss_across_batches))\n",
    "    print(\"**************************************************\")\n",
    "    print()\n"
   ]
  },
  {
   "cell_type": "code",
   "execution_count": null,
   "id": "1b6405d1",
   "metadata": {},
   "outputs": [
    {
     "name": "stdout",
     "output_type": "stream",
     "text": [
      "Epoch: 1\n",
      "Val Loss 0.622\n",
      "**************************************************\n",
      "\n",
      "\n",
      "Epoch: 2\n"
     ]
    },
    {
     "name": "stdout",
     "output_type": "stream",
     "text": [
      "Val Loss 0.518\n",
      "**************************************************\n",
      "\n",
      "\n",
      "Epoch: 3\n",
      "Val Loss 0.403\n",
      "**************************************************\n",
      "\n",
      "\n",
      "Epoch: 4\n",
      "Val Loss 0.286\n",
      "**************************************************\n",
      "\n",
      "\n",
      "Epoch: 5\n",
      "Val Loss 0.182\n",
      "**************************************************\n",
      "\n",
      "\n",
      "Epoch: 6\n",
      "Val Loss 0.109\n",
      "**************************************************\n",
      "\n",
      "\n",
      "Epoch: 7\n",
      "Val Loss 0.065\n",
      "**************************************************\n",
      "\n",
      "\n",
      "Epoch: 8\n",
      "Val Loss 0.039\n",
      "**************************************************\n",
      "\n",
      "\n",
      "Epoch: 9\n",
      "Val Loss 0.027\n",
      "**************************************************\n",
      "\n",
      "\n",
      "Epoch: 10\n",
      "Val Loss 0.022\n",
      "**************************************************\n",
      "\n",
      "\n"
     ]
    }
   ],
   "source": [
    "leraning_rate = 0.001\n",
    "num_epochs = \n",
    "optimizer = optim.Adam(model.parameters(), lr = leraning_rate)\n",
    "loss_function = nn.MSELoss()\n",
    "\n",
    "train_one_epoch(train_loader,\n",
    "                    test_loader,\n",
    "                    num_epochs, \n",
    "                    loss_function, \n",
    "                    optimizer,\n",
    "                    validate_one_epoch)\n",
    "\n"
   ]
  },
  {
   "cell_type": "code",
   "execution_count": 112,
   "id": "b16304fc",
   "metadata": {},
   "outputs": [
    {
     "data": {
      "image/png": "[encoded data removed]",
      "text/plain": [
       "<Figure size 640x480 with 1 Axes>"
      ]
     },
     "metadata": {},
     "output_type": "display_data"
    }
   ],
   "source": [
    "with torch.no_grad():\n",
    "    predicted,_ , _= model(X_train.to(device))\n",
    "    predicted = predicted.to(\"cpu\").numpy()\n",
    "plt.plot(y_train, label = \"Actual Rainfall\")\n",
    "plt.plot(predicted, label = \"predicted Rainfall\")\n",
    "plt.xlabel(\"Day\")\n",
    "plt.ylabel(\"Rainfall\")\n",
    "plt.legend()\n",
    "plt.show()"
   ]
  },
  {
   "cell_type": "code",
   "execution_count": 3,
   "id": "841b6d1a",
   "metadata": {},
   "outputs": [],
   "source": [
    "from dataclasses import dataclass\n",
    "from pathlib import Path\n",
    "\n",
    "@dataclass(frozen=True)\n",
    "class ModelTrainerConfig:\n",
    "    root_dir: Path\n",
    "    train_data_path: Path\n",
    "    test_data_path: Path\n",
    "    model_name: str\n",
    "    model_params: dict\n",
    "    target_column: str"
   ]
  },
  {
   "cell_type": "code",
   "execution_count": 45,
   "id": "e9a97175",
   "metadata": {},
   "outputs": [],
   "source": [
    "\n",
    "\n",
    "from mlProject.constants import *\n",
    "from mlProject.utils.common import read_yaml, create_directories"
   ]
  },
  {
   "cell_type": "code",
   "execution_count": null,
   "id": "4713dc15",
   "metadata": {},
   "outputs": [],
   "source": [
    "class ConfigurationManager:\n",
    "    def __init__(\n",
    "        self,\n",
    "        config_filepath = CONFIG_FILE_PATH,\n",
    "        params_filepath = PARAMS_FILE_PATH,\n",
    "        schema_filepath = SCHEMA_FILE_PATH):\n",
    "\n",
    "        self.config = read_yaml(config_filepath)\n",
    "        self.params = read_yaml(params_filepath)\n",
    "        self.schema = read_yaml(schema_filepath)\n",
    "\n",
    "        create_directories([self.config.artifacts_root])\n",
    "\n",
    "\n",
    "    def get_model_trainer_config(self) -> ModelTrainerConfig:\n",
    "        config = self.config.model_trainer\n",
    "        model_params = self.params.XGBoost\n",
    "        schema =  self.schema.TARGET_COLUMN\n",
    "\n",
    "        create_directories([config.root_dir])\n",
    "\n",
    "        model_trainer_config = ModelTrainerConfig(\n",
    "            root_dir=config.root_dir,\n",
    "            train_data_path = config.train_data_path,\n",
    "            test_data_path = config.test_data_path,\n",
    "            model_name = config.model_name,\n",
    "            model_params = model_params,\n",
    "            target_column = schema.name\n",
    "            \n",
    "        )\n",
    "\n",
    "        return model_trainer_config"
   ]
  },
  {
   "cell_type": "code",
   "execution_count": null,
   "id": "2c29594e",
   "metadata": {},
   "outputs": [],
   "source": [
    "from sklearn.pipeline import Pipeline\n",
    "from sklearn.impute import SimpleImputer\n",
    "from sklearn.compose import ColumnTransformer\n",
    "from sklearn.ensemble import RandomForestClassifier  # or any other model\n",
    "from sklearn.feature_extraction import DictVectorizer\n",
    "from sklearn.preprocessing import StandardScaler, FunctionTransformer\n",
    "from sklearn.linear_model import LogisticRegression\n",
    "import joblib"
   ]
  },
  {
   "cell_type": "code",
   "execution_count": null,
   "id": "ce9144bf",
   "metadata": {},
   "outputs": [],
   "source": [
    "\n",
    "class ModelTrainer:\n",
    "    def __init__(self, config: ModelTrainerConfig):\n",
    "        self.config = config\n",
    "    def array_to_str_keyed_dict_list(self, X):\n",
    "        \"\"\"\n",
    "        Converts a 2D array into a list of dictionaries\n",
    "        where keys are string representations of column indices.\n",
    "        \"\"\"\n",
    "        return [dict(zip(map(str, range(X.shape[1])), row)) for row in X]\n",
    "\n",
    "    \n",
    "    def train(self):\n",
    "        train_data = pd.read_csv(self.config.train_data_path)\n",
    "        test_data = pd.read_csv(self.config.test_data_path)\n",
    "\n",
    "\n",
    "        train_x = train_data.drop([self.config.target_column], axis=1)\n",
    "        test_x = test_data.drop([self.config.target_column], axis=1)\n",
    "        train_y = train_data[[self.config.target_column]]\n",
    "        test_y = test_data[[self.config.target_column]]\n",
    "        \n",
    "        # gender_id , and type as categorical variables\n",
    "        categorical_cols = [\"gender_id\", \"type\"]\n",
    "        train_x[categorical_cols] = train_x[categorical_cols].astype(str)\n",
    "        \n",
    "        numeric_cols = train_x.select_dtypes(include=[\"int64\", \"float64\"]).columns.tolist()\n",
    "        \n",
    "        # Step 3: ColumnTransformer for imputing\n",
    "        preprocessor = ColumnTransformer(transformers=[\n",
    "            (\"num\", SimpleImputer(strategy=\"median\"), numeric_cols),\n",
    "            (\"scaler\", StandardScaler(), numeric_cols),\n",
    "            (\"cat\", SimpleImputer(strategy=\"most_frequent\"), categorical_cols)\n",
    "        ], remainder=\"passthrough\")  # Keep other columns (if any)\n",
    "\n",
    "        pipeline = Pipeline([\n",
    "            (\"preprocessing\", preprocessor),\n",
    "            (\"to_dict\", FunctionTransformer(self.array_to_str_keyed_dict_list)),\n",
    "            (\"vectorize\", DictVectorizer()),\n",
    "            ('classifier', XGBClassifier(**self.config.model_params, random_state=42))\n",
    "        ])\n",
    "\n",
    "        \n",
    "        pipeline.fit(train_x, train_y)\n",
    "\n",
    "        joblib.dump(pipeline, os.path.join(self.config.root_dir, self.config.model_name))\n",
    "\n",
    "try:\n",
    "    config = ConfigurationManager()\n",
    "    model_trainer_config = config.get_model_trainer_config()\n",
    "    model_trainer_config = ModelTrainer(config=model_trainer_config)\n",
    "    model_trainer_config.train()\n",
    "except Exception as e:\n",
    "    raise e\n",
    "\n"
   ]
  },
  {
   "cell_type": "code",
   "execution_count": null,
   "id": "18a3d200",
   "metadata": {},
   "outputs": [],
   "source": []
  }
 ],
 "metadata": {
  "kernelspec": {
   "display_name": "rain-pred",
   "language": "python",
   "name": "rain-pred"
  },
  "language_info": {
   "codemirror_mode": {
    "name": "ipython",
    "version": 3
   },
   "file_extension": ".py",
   "mimetype": "text/x-python",
   "name": "python",
   "nbconvert_exporter": "python",
   "pygments_lexer": "ipython3",
   "version": "3.12.3"
  }
 },
 "nbformat": 4,
 "nbformat_minor": 5
}
