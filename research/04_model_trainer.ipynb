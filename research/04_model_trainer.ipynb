{
 "cells": [
  {
   "cell_type": "code",
   "execution_count": 1,
   "id": "9c42e485",
   "metadata": {},
   "outputs": [
    {
     "data": {
      "text/plain": [
       "'/home/ubuntu/africlimateai/rainfall-prediction'"
      ]
     },
     "execution_count": 1,
     "metadata": {},
     "output_type": "execute_result"
    }
   ],
   "source": [
    "import os\n",
    "\n",
    "%pwd\n",
    "\n",
    "'/home/tousside/Documents/recrutement/cowrywise-customer-plan-abandonment/research'\n",
    "\n",
    "os.chdir(\"../\")\n",
    "\n",
    "%pwd\n",
    "\n"
   ]
  },
  {
   "cell_type": "code",
   "execution_count": 2,
   "id": "3207e40a",
   "metadata": {},
   "outputs": [
    {
     "name": "stdout",
     "output_type": "stream",
     "text": [
      "<class 'pandas.core.frame.DataFrame'>\n",
      "RangeIndex: 187 entries, 0 to 186\n",
      "Data columns (total 12 columns):\n",
      " #   Column             Non-Null Count  Dtype  \n",
      "---  ------             --------------  -----  \n",
      " 0   time               187 non-null    object \n",
      " 1   temperature        168 non-null    float64\n",
      " 2   feels_like         168 non-null    float64\n",
      " 3   app_temp           168 non-null    float64\n",
      " 4   dew_point          168 non-null    float64\n",
      " 5   humidity           168 non-null    float64\n",
      " 6   wind_direction     168 non-null    float64\n",
      " 7   wind_speed         168 non-null    float64\n",
      " 8   wind_gust          168 non-null    float64\n",
      " 9   pressure_relative  168 non-null    float64\n",
      " 10  pressure_absolute  168 non-null    float64\n",
      " 11  rainfall           187 non-null    float64\n",
      "dtypes: float64(11), object(1)\n",
      "memory usage: 17.7+ KB\n"
     ]
    }
   ],
   "source": [
    "import pandas as pd\n",
    "\n",
    "data = pd.read_csv(\"artifacts/data_transformation/train.csv\")\n",
    "\n",
    "data.info()\n",
    "\n"
   ]
  },
  {
   "cell_type": "code",
   "execution_count": 3,
   "id": "841b6d1a",
   "metadata": {},
   "outputs": [],
   "source": [
    "from dataclasses import dataclass\n",
    "from pathlib import Path\n",
    "\n",
    "@dataclass(frozen=True)\n",
    "class ModelTrainerConfig:\n",
    "    root_dir: Path\n",
    "    train_data_path: Path\n",
    "    test_data_path: Path\n",
    "    model_name: str\n",
    "    model_params: dict\n",
    "    target_column: str"
   ]
  },
  {
   "cell_type": "code",
   "execution_count": 45,
   "id": "e9a97175",
   "metadata": {},
   "outputs": [],
   "source": [
    "\n",
    "\n",
    "from mlProject.constants import *\n",
    "from mlProject.utils.common import read_yaml, create_directories"
   ]
  },
  {
   "cell_type": "code",
   "execution_count": null,
   "id": "4713dc15",
   "metadata": {},
   "outputs": [],
   "source": [
    "class ConfigurationManager:\n",
    "    def __init__(\n",
    "        self,\n",
    "        config_filepath = CONFIG_FILE_PATH,\n",
    "        params_filepath = PARAMS_FILE_PATH,\n",
    "        schema_filepath = SCHEMA_FILE_PATH):\n",
    "\n",
    "        self.config = read_yaml(config_filepath)\n",
    "        self.params = read_yaml(params_filepath)\n",
    "        self.schema = read_yaml(schema_filepath)\n",
    "\n",
    "        create_directories([self.config.artifacts_root])\n",
    "\n",
    "\n",
    "    def get_model_trainer_config(self) -> ModelTrainerConfig:\n",
    "        config = self.config.model_trainer\n",
    "        model_params = self.params.XGBoost\n",
    "        schema =  self.schema.TARGET_COLUMN\n",
    "\n",
    "        create_directories([config.root_dir])\n",
    "\n",
    "        model_trainer_config = ModelTrainerConfig(\n",
    "            root_dir=config.root_dir,\n",
    "            train_data_path = config.train_data_path,\n",
    "            test_data_path = config.test_data_path,\n",
    "            model_name = config.model_name,\n",
    "            model_params = model_params,\n",
    "            target_column = schema.name\n",
    "            \n",
    "        )\n",
    "\n",
    "        return model_trainer_config"
   ]
  },
  {
   "cell_type": "code",
   "execution_count": null,
   "id": "2c29594e",
   "metadata": {},
   "outputs": [],
   "source": [
    "from sklearn.pipeline import Pipeline\n",
    "from sklearn.impute import SimpleImputer\n",
    "from sklearn.compose import ColumnTransformer\n",
    "from sklearn.ensemble import RandomForestClassifier  # or any other model\n",
    "from sklearn.feature_extraction import DictVectorizer\n",
    "from sklearn.preprocessing import StandardScaler, FunctionTransformer\n",
    "from sklearn.linear_model import LogisticRegression\n",
    "import joblib"
   ]
  },
  {
   "cell_type": "code",
   "execution_count": null,
   "id": "ce9144bf",
   "metadata": {},
   "outputs": [],
   "source": [
    "\n",
    "class ModelTrainer:\n",
    "    def __init__(self, config: ModelTrainerConfig):\n",
    "        self.config = config\n",
    "    def array_to_str_keyed_dict_list(self, X):\n",
    "        \"\"\"\n",
    "        Converts a 2D array into a list of dictionaries\n",
    "        where keys are string representations of column indices.\n",
    "        \"\"\"\n",
    "        return [dict(zip(map(str, range(X.shape[1])), row)) for row in X]\n",
    "\n",
    "    \n",
    "    def train(self):\n",
    "        train_data = pd.read_csv(self.config.train_data_path)\n",
    "        test_data = pd.read_csv(self.config.test_data_path)\n",
    "\n",
    "\n",
    "        train_x = train_data.drop([self.config.target_column], axis=1)\n",
    "        test_x = test_data.drop([self.config.target_column], axis=1)\n",
    "        train_y = train_data[[self.config.target_column]]\n",
    "        test_y = test_data[[self.config.target_column]]\n",
    "        \n",
    "        # gender_id , and type as categorical variables\n",
    "        categorical_cols = [\"gender_id\", \"type\"]\n",
    "        train_x[categorical_cols] = train_x[categorical_cols].astype(str)\n",
    "        \n",
    "        numeric_cols = train_x.select_dtypes(include=[\"int64\", \"float64\"]).columns.tolist()\n",
    "        \n",
    "        # Step 3: ColumnTransformer for imputing\n",
    "        preprocessor = ColumnTransformer(transformers=[\n",
    "            (\"num\", SimpleImputer(strategy=\"median\"), numeric_cols),\n",
    "            (\"scaler\", StandardScaler(), numeric_cols),\n",
    "            (\"cat\", SimpleImputer(strategy=\"most_frequent\"), categorical_cols)\n",
    "        ], remainder=\"passthrough\")  # Keep other columns (if any)\n",
    "\n",
    "        pipeline = Pipeline([\n",
    "            (\"preprocessing\", preprocessor),\n",
    "            (\"to_dict\", FunctionTransformer(self.array_to_str_keyed_dict_list)),\n",
    "            (\"vectorize\", DictVectorizer()),\n",
    "            ('classifier', XGBClassifier(**self.config.model_params, random_state=42))\n",
    "        ])\n",
    "\n",
    "        \n",
    "        pipeline.fit(train_x, train_y)\n",
    "\n",
    "        joblib.dump(pipeline, os.path.join(self.config.root_dir, self.config.model_name))\n",
    "\n",
    "try:\n",
    "    config = ConfigurationManager()\n",
    "    model_trainer_config = config.get_model_trainer_config()\n",
    "    model_trainer_config = ModelTrainer(config=model_trainer_config)\n",
    "    model_trainer_config.train()\n",
    "except Exception as e:\n",
    "    raise e\n",
    "\n"
   ]
  },
  {
   "cell_type": "code",
   "execution_count": null,
   "id": "18a3d200",
   "metadata": {},
   "outputs": [],
   "source": []
  }
 ],
 "metadata": {
  "kernelspec": {
   "display_name": "rain-pred",
   "language": "python",
   "name": "rain-pred"
  },
  "language_info": {
   "codemirror_mode": {
    "name": "ipython",
    "version": 3
   },
   "file_extension": ".py",
   "mimetype": "text/x-python",
   "name": "python",
   "nbconvert_exporter": "python",
   "pygments_lexer": "ipython3",
   "version": "3.12.3"
  }
 },
 "nbformat": 4,
 "nbformat_minor": 5
}
