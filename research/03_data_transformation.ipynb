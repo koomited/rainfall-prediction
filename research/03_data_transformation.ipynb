{
 "cells": [
  {
   "cell_type": "code",
   "execution_count": 1,
   "id": "9c42e485",
   "metadata": {},
   "outputs": [
    {
     "data": {
      "text/plain": [
       "'/home/ubuntu/africlimateai/rainfall-prediction'"
      ]
     },
     "execution_count": 1,
     "metadata": {},
     "output_type": "execute_result"
    }
   ],
   "source": [
    "import os\n",
    "\n",
    "%pwd\n",
    "\n",
    "'/home/tousside/Documents/recrutement/cowrywise-customer-plan-abandonment/research'\n",
    "\n",
    "os.chdir(\"../\")\n",
    "\n",
    "%pwd\n",
    "\n"
   ]
  },
  {
   "cell_type": "code",
   "execution_count": 44,
   "id": "f1e582e9",
   "metadata": {},
   "outputs": [],
   "source": [
    "\n",
    "\n",
    "from dataclasses import dataclass\n",
    "from pathlib import Path\n",
    "\n",
    "\n",
    "@dataclass(frozen=True)\n",
    "class DataTransformationConfig:\n",
    "    root_dir: Path\n",
    "    data_path: Path\n",
    "    all_schema: str\n",
    "    test_size: float\n",
    "\n"
   ]
  },
  {
   "cell_type": "code",
   "execution_count": 45,
   "id": "e9a97175",
   "metadata": {},
   "outputs": [],
   "source": [
    "\n",
    "\n",
    "from mlProject.constants import *\n",
    "from mlProject.utils.common import read_yaml, create_directories"
   ]
  },
  {
   "cell_type": "code",
   "execution_count": 46,
   "id": "f6ab8945",
   "metadata": {},
   "outputs": [],
   "source": [
    "class ConfigurationManager:\n",
    "    def __init__(self,\n",
    "                 config_filepath: str = CONFIG_FILE_PATH,\n",
    "                 params_filepath: str = PARAMS_FILE_PATH,\n",
    "                 schema_filepath: str = SCHEMA_FILE_PATH,\n",
    "                 ):\n",
    "                self.config = read_yaml(config_filepath)\n",
    "                self.params = read_yaml(params_filepath)\n",
    "                self.schema = read_yaml(schema_filepath)\n",
    "                create_directories([self.config.artifacts_root])\n",
    "                \n",
    "\n",
    "    def get_data_transformation_config(self) -> DataTransformationConfig:\n",
    "        config = self.config.data_transformation\n",
    "        schema = self.schema\n",
    "        create_directories([config.root_dir])\n",
    "        data_transformation_config = DataTransformationConfig(\n",
    "            root_dir=Path(config.root_dir),\n",
    "            data_path=Path(config.data_path),\n",
    "            all_schema=schema,\n",
    "            test_size=config.test_size\n",
    "            \n",
    "        )\n",
    "        \n",
    "        return data_transformation_config"
   ]
  },
  {
   "cell_type": "code",
   "execution_count": 47,
   "id": "ce9144bf",
   "metadata": {},
   "outputs": [],
   "source": [
    "\n",
    "import os \n",
    "from mlProject import logger\n",
    "import pandas as pd"
   ]
  },
  {
   "cell_type": "code",
   "execution_count": 61,
   "id": "6ca63ec2",
   "metadata": {},
   "outputs": [],
   "source": [
    "class DataTransformation:\n",
    "    def __init__(self, config:DataTransformationConfig):\n",
    "        self.config = config\n",
    "        \n",
    "    def train_test_spliting(self):\n",
    "        data = pd.read_csv(self.config.data_path)\n",
    "        features = list(self.config.all_schema.COLUMNS.keys())\n",
    "        target = list(self.config.all_schema.TARGET_COLUMN.keys())\n",
    "        all_variables = features + target\n",
    "        data = data[all_variables]\n",
    "        \n",
    "        data[\"time\"] = pd.to_datetime(data.time)\n",
    "        \n",
    "        data_size = len(data)\n",
    "        test_size = int(self.config.test_size*data_size)\n",
    "        train_size = data_size-test_size\n",
    "        train_set = data[:train_size]\n",
    "        test_set = data[train_size:]\n",
    "\n",
    "        \n",
    "        train_set.to_csv(os.path.join(self.config.root_dir, \"train.csv\"),index = False)\n",
    "        test_set.to_csv(os.path.join(self.config.root_dir, \"test.csv\"),index = False)\n",
    "\n",
    "        logger.info(\"Splited data into training and test sets\")\n",
    "        logger.info(train_set.shape)\n",
    "        logger.info(test_set.shape)\n",
    "\n"
   ]
  },
  {
   "cell_type": "code",
   "execution_count": 62,
   "id": "02e979d0",
   "metadata": {},
   "outputs": [
    {
     "name": "stdout",
     "output_type": "stream",
     "text": [
      "[2025-09-23 15:12:58,172: INFO: common: yaml file: config/config.yaml loaded successfully]\n",
      "[2025-09-23 15:12:58,173: INFO: common: yaml file: params.yaml loaded successfully]\n",
      "[2025-09-23 15:12:58,176: INFO: common: yaml file: schema.yaml loaded successfully]\n",
      "[2025-09-23 15:12:58,176: INFO: common: created directory at: artifacts]\n",
      "[2025-09-23 15:12:58,178: INFO: common: created directory at: artifacts/data_transformation]\n",
      "[2025-09-23 15:12:58,192: INFO: 2321397177: Splited data into training and test sets]\n",
      "[2025-09-23 15:12:58,193: INFO: 2321397177: (187, 12)]\n",
      "[2025-09-23 15:12:58,193: INFO: 2321397177: (80, 12)]\n"
     ]
    }
   ],
   "source": [
    "try:\n",
    "    config = ConfigurationManager()\n",
    "    data_transformation_config = config.get_data_transformation_config()\n",
    "    data_transformation = DataTransformation(config=data_transformation_config)\n",
    "    data_transformation.train_test_spliting()\n",
    "except Exception as e:\n",
    "    raise e"
   ]
  },
  {
   "cell_type": "code",
   "execution_count": null,
   "id": "18a3d200",
   "metadata": {},
   "outputs": [],
   "source": []
  }
 ],
 "metadata": {
  "kernelspec": {
   "display_name": "rain-pred",
   "language": "python",
   "name": "rain-pred"
  },
  "language_info": {
   "codemirror_mode": {
    "name": "ipython",
    "version": 3
   },
   "file_extension": ".py",
   "mimetype": "text/x-python",
   "name": "python",
   "nbconvert_exporter": "python",
   "pygments_lexer": "ipython3",
   "version": "3.12.3"
  }
 },
 "nbformat": 4,
 "nbformat_minor": 5
}
